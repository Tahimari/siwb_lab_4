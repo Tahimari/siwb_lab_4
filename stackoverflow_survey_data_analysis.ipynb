{
 "cells": [
  {
   "cell_type": "markdown",
   "metadata": {},
   "source": [
    "# Analiza ankiety stackoverflow 2020\n",
    "## Kamil Misiak\n",
    "\n",
    "W tym sprawozdaniu przeprowadzę analizę zbioru danych zawierające dane z ankiety przeprowadzonej przez portal stackoverflow. Zbiór danych zostanie załadowany, oczyszczony i przeanalizowany.\n",
    "\n",
    "## Agenda\n",
    "1. Załadowanie zbioru danych i wstępne statystyki\n",
    "2. Przygotowanie danych\n",
    "3. Analiza i wizualizacja danych"
   ]
  },
  {
   "cell_type": "markdown",
   "metadata": {},
   "source": [
    "## Krok 1: Załadowanie zbioru danych i wstępne statystyki"
   ]
  },
  {
   "cell_type": "code",
   "execution_count": 1,
   "metadata": {},
   "outputs": [],
   "source": [
    "# Przygotowanie danych\n",
    "import pandas as pd\n",
    "import numpy as np\n",
    "\n",
    "# Wizualizacja\n",
    "import seaborn as sns\n",
    "import matplotlib.pyplot as plt\n",
    "%matplotlib inline\n",
    "\n",
    "# Dostosowanie wyglądu wizualizacji\n",
    "sns.set_style('darkgrid')\n",
    "plt.rcParams['font.size'] = 14\n",
    "plt.rcParams['figure.figsize'] = (9, 5)\n",
    "plt.rcParams['figure.facecolor'] = '#00000000'\n",
    "\n",
    "# Klasyfikacja\n",
    "from sklearn.tree import DecisionTreeClassifier\n",
    "from sklearn.model_selection import cross_val_score\n",
    "\n",
    "# Scieżki do plików (dane, schemat)\n",
    "data_file_name = './data/survey_results_public.csv'\n",
    "schema_file_name = './data/survey_results_schema.csv'\n",
    "\n",
    "# Załadowanie zbioru\n",
    "data_raw = pd.read_csv(data_file_name, sep=',', header=0)"
   ]
  },
  {
   "cell_type": "markdown",
   "metadata": {},
   "source": [
    "#### Następnie przyjrzmy się atrybutom które występują w zbiorze danych"
   ]
  },
  {
   "cell_type": "code",
   "execution_count": 2,
   "metadata": {},
   "outputs": [
    {
     "data": {
      "text/plain": [
       "Index(['Respondent', 'MainBranch', 'Hobbyist', 'Age', 'Age1stCode', 'CompFreq',\n",
       "       'CompTotal', 'ConvertedComp', 'Country', 'CurrencyDesc',\n",
       "       'CurrencySymbol', 'DatabaseDesireNextYear', 'DatabaseWorkedWith',\n",
       "       'DevType', 'EdLevel', 'Employment', 'Ethnicity', 'Gender', 'JobFactors',\n",
       "       'JobSat', 'JobSeek', 'LanguageDesireNextYear', 'LanguageWorkedWith',\n",
       "       'MiscTechDesireNextYear', 'MiscTechWorkedWith',\n",
       "       'NEWCollabToolsDesireNextYear', 'NEWCollabToolsWorkedWith', 'NEWDevOps',\n",
       "       'NEWDevOpsImpt', 'NEWEdImpt', 'NEWJobHunt', 'NEWJobHuntResearch',\n",
       "       'NEWLearn', 'NEWOffTopic', 'NEWOnboardGood', 'NEWOtherComms',\n",
       "       'NEWOvertime', 'NEWPurchaseResearch', 'NEWPurpleLink', 'NEWSOSites',\n",
       "       'NEWStuck', 'OpSys', 'OrgSize', 'PlatformDesireNextYear',\n",
       "       'PlatformWorkedWith', 'PurchaseWhat', 'Sexuality', 'SOAccount',\n",
       "       'SOComm', 'SOPartFreq', 'SOVisitFreq', 'SurveyEase', 'SurveyLength',\n",
       "       'Trans', 'UndergradMajor', 'WebframeDesireNextYear',\n",
       "       'WebframeWorkedWith', 'WelcomeChange', 'WorkWeekHrs', 'YearsCode',\n",
       "       'YearsCodePro'],\n",
       "      dtype='object')"
      ]
     },
     "execution_count": 2,
     "metadata": {},
     "output_type": "execute_result"
    }
   ],
   "source": [
    "data_raw.columns"
   ]
  },
  {
   "cell_type": "markdown",
   "metadata": {},
   "source": [
    "#### Następnie wyświetlimy 5 pierwszych rekordów"
   ]
  },
  {
   "cell_type": "code",
   "execution_count": 3,
   "metadata": {},
   "outputs": [
    {
     "data": {
      "text/html": [
       "<div>\n",
       "<style scoped>\n",
       "    .dataframe tbody tr th:only-of-type {\n",
       "        vertical-align: middle;\n",
       "    }\n",
       "\n",
       "    .dataframe tbody tr th {\n",
       "        vertical-align: top;\n",
       "    }\n",
       "\n",
       "    .dataframe thead th {\n",
       "        text-align: right;\n",
       "    }\n",
       "</style>\n",
       "<table border=\"1\" class=\"dataframe\">\n",
       "  <thead>\n",
       "    <tr style=\"text-align: right;\">\n",
       "      <th></th>\n",
       "      <th>Respondent</th>\n",
       "      <th>MainBranch</th>\n",
       "      <th>Hobbyist</th>\n",
       "      <th>Age</th>\n",
       "      <th>Age1stCode</th>\n",
       "      <th>CompFreq</th>\n",
       "      <th>CompTotal</th>\n",
       "      <th>ConvertedComp</th>\n",
       "      <th>Country</th>\n",
       "      <th>CurrencyDesc</th>\n",
       "      <th>...</th>\n",
       "      <th>SurveyEase</th>\n",
       "      <th>SurveyLength</th>\n",
       "      <th>Trans</th>\n",
       "      <th>UndergradMajor</th>\n",
       "      <th>WebframeDesireNextYear</th>\n",
       "      <th>WebframeWorkedWith</th>\n",
       "      <th>WelcomeChange</th>\n",
       "      <th>WorkWeekHrs</th>\n",
       "      <th>YearsCode</th>\n",
       "      <th>YearsCodePro</th>\n",
       "    </tr>\n",
       "  </thead>\n",
       "  <tbody>\n",
       "    <tr>\n",
       "      <th>0</th>\n",
       "      <td>1</td>\n",
       "      <td>I am a developer by profession</td>\n",
       "      <td>Yes</td>\n",
       "      <td>NaN</td>\n",
       "      <td>13</td>\n",
       "      <td>Monthly</td>\n",
       "      <td>NaN</td>\n",
       "      <td>NaN</td>\n",
       "      <td>Germany</td>\n",
       "      <td>European Euro</td>\n",
       "      <td>...</td>\n",
       "      <td>Neither easy nor difficult</td>\n",
       "      <td>Appropriate in length</td>\n",
       "      <td>No</td>\n",
       "      <td>Computer science, computer engineering, or sof...</td>\n",
       "      <td>ASP.NET Core</td>\n",
       "      <td>ASP.NET;ASP.NET Core</td>\n",
       "      <td>Just as welcome now as I felt last year</td>\n",
       "      <td>50.0</td>\n",
       "      <td>36</td>\n",
       "      <td>27</td>\n",
       "    </tr>\n",
       "    <tr>\n",
       "      <th>1</th>\n",
       "      <td>2</td>\n",
       "      <td>I am a developer by profession</td>\n",
       "      <td>No</td>\n",
       "      <td>NaN</td>\n",
       "      <td>19</td>\n",
       "      <td>NaN</td>\n",
       "      <td>NaN</td>\n",
       "      <td>NaN</td>\n",
       "      <td>United Kingdom</td>\n",
       "      <td>Pound sterling</td>\n",
       "      <td>...</td>\n",
       "      <td>NaN</td>\n",
       "      <td>NaN</td>\n",
       "      <td>NaN</td>\n",
       "      <td>Computer science, computer engineering, or sof...</td>\n",
       "      <td>NaN</td>\n",
       "      <td>NaN</td>\n",
       "      <td>Somewhat more welcome now than last year</td>\n",
       "      <td>NaN</td>\n",
       "      <td>7</td>\n",
       "      <td>4</td>\n",
       "    </tr>\n",
       "    <tr>\n",
       "      <th>2</th>\n",
       "      <td>3</td>\n",
       "      <td>I code primarily as a hobby</td>\n",
       "      <td>Yes</td>\n",
       "      <td>NaN</td>\n",
       "      <td>15</td>\n",
       "      <td>NaN</td>\n",
       "      <td>NaN</td>\n",
       "      <td>NaN</td>\n",
       "      <td>Russian Federation</td>\n",
       "      <td>NaN</td>\n",
       "      <td>...</td>\n",
       "      <td>Neither easy nor difficult</td>\n",
       "      <td>Appropriate in length</td>\n",
       "      <td>NaN</td>\n",
       "      <td>NaN</td>\n",
       "      <td>NaN</td>\n",
       "      <td>NaN</td>\n",
       "      <td>Somewhat more welcome now than last year</td>\n",
       "      <td>NaN</td>\n",
       "      <td>4</td>\n",
       "      <td>NaN</td>\n",
       "    </tr>\n",
       "    <tr>\n",
       "      <th>3</th>\n",
       "      <td>4</td>\n",
       "      <td>I am a developer by profession</td>\n",
       "      <td>Yes</td>\n",
       "      <td>25.0</td>\n",
       "      <td>18</td>\n",
       "      <td>NaN</td>\n",
       "      <td>NaN</td>\n",
       "      <td>NaN</td>\n",
       "      <td>Albania</td>\n",
       "      <td>Albanian lek</td>\n",
       "      <td>...</td>\n",
       "      <td>NaN</td>\n",
       "      <td>NaN</td>\n",
       "      <td>No</td>\n",
       "      <td>Computer science, computer engineering, or sof...</td>\n",
       "      <td>NaN</td>\n",
       "      <td>NaN</td>\n",
       "      <td>Somewhat less welcome now than last year</td>\n",
       "      <td>40.0</td>\n",
       "      <td>7</td>\n",
       "      <td>4</td>\n",
       "    </tr>\n",
       "    <tr>\n",
       "      <th>4</th>\n",
       "      <td>5</td>\n",
       "      <td>I used to be a developer by profession, but no...</td>\n",
       "      <td>Yes</td>\n",
       "      <td>31.0</td>\n",
       "      <td>16</td>\n",
       "      <td>NaN</td>\n",
       "      <td>NaN</td>\n",
       "      <td>NaN</td>\n",
       "      <td>United States</td>\n",
       "      <td>NaN</td>\n",
       "      <td>...</td>\n",
       "      <td>Easy</td>\n",
       "      <td>Too short</td>\n",
       "      <td>No</td>\n",
       "      <td>Computer science, computer engineering, or sof...</td>\n",
       "      <td>Django;Ruby on Rails</td>\n",
       "      <td>Ruby on Rails</td>\n",
       "      <td>Just as welcome now as I felt last year</td>\n",
       "      <td>NaN</td>\n",
       "      <td>15</td>\n",
       "      <td>8</td>\n",
       "    </tr>\n",
       "  </tbody>\n",
       "</table>\n",
       "<p>5 rows × 61 columns</p>\n",
       "</div>"
      ],
      "text/plain": [
       "   Respondent                                         MainBranch Hobbyist  \\\n",
       "0           1                     I am a developer by profession      Yes   \n",
       "1           2                     I am a developer by profession       No   \n",
       "2           3                        I code primarily as a hobby      Yes   \n",
       "3           4                     I am a developer by profession      Yes   \n",
       "4           5  I used to be a developer by profession, but no...      Yes   \n",
       "\n",
       "    Age Age1stCode CompFreq  CompTotal  ConvertedComp             Country  \\\n",
       "0   NaN         13  Monthly        NaN            NaN             Germany   \n",
       "1   NaN         19      NaN        NaN            NaN      United Kingdom   \n",
       "2   NaN         15      NaN        NaN            NaN  Russian Federation   \n",
       "3  25.0         18      NaN        NaN            NaN             Albania   \n",
       "4  31.0         16      NaN        NaN            NaN       United States   \n",
       "\n",
       "     CurrencyDesc  ...                  SurveyEase           SurveyLength  \\\n",
       "0   European Euro  ...  Neither easy nor difficult  Appropriate in length   \n",
       "1  Pound sterling  ...                         NaN                    NaN   \n",
       "2             NaN  ...  Neither easy nor difficult  Appropriate in length   \n",
       "3    Albanian lek  ...                         NaN                    NaN   \n",
       "4             NaN  ...                        Easy              Too short   \n",
       "\n",
       "  Trans                                     UndergradMajor  \\\n",
       "0    No  Computer science, computer engineering, or sof...   \n",
       "1   NaN  Computer science, computer engineering, or sof...   \n",
       "2   NaN                                                NaN   \n",
       "3    No  Computer science, computer engineering, or sof...   \n",
       "4    No  Computer science, computer engineering, or sof...   \n",
       "\n",
       "  WebframeDesireNextYear    WebframeWorkedWith  \\\n",
       "0           ASP.NET Core  ASP.NET;ASP.NET Core   \n",
       "1                    NaN                   NaN   \n",
       "2                    NaN                   NaN   \n",
       "3                    NaN                   NaN   \n",
       "4   Django;Ruby on Rails         Ruby on Rails   \n",
       "\n",
       "                              WelcomeChange WorkWeekHrs YearsCode YearsCodePro  \n",
       "0   Just as welcome now as I felt last year        50.0        36           27  \n",
       "1  Somewhat more welcome now than last year         NaN         7            4  \n",
       "2  Somewhat more welcome now than last year         NaN         4          NaN  \n",
       "3  Somewhat less welcome now than last year        40.0         7            4  \n",
       "4   Just as welcome now as I felt last year         NaN        15            8  \n",
       "\n",
       "[5 rows x 61 columns]"
      ]
     },
     "execution_count": 3,
     "metadata": {},
     "output_type": "execute_result"
    }
   ],
   "source": [
    "data_raw.head()"
   ]
  },
  {
   "cell_type": "markdown",
   "metadata": {},
   "source": [
    "#### Oraz końcowe 5 rekordów"
   ]
  },
  {
   "cell_type": "code",
   "execution_count": 4,
   "metadata": {},
   "outputs": [
    {
     "data": {
      "text/html": [
       "<div>\n",
       "<style scoped>\n",
       "    .dataframe tbody tr th:only-of-type {\n",
       "        vertical-align: middle;\n",
       "    }\n",
       "\n",
       "    .dataframe tbody tr th {\n",
       "        vertical-align: top;\n",
       "    }\n",
       "\n",
       "    .dataframe thead th {\n",
       "        text-align: right;\n",
       "    }\n",
       "</style>\n",
       "<table border=\"1\" class=\"dataframe\">\n",
       "  <thead>\n",
       "    <tr style=\"text-align: right;\">\n",
       "      <th></th>\n",
       "      <th>Respondent</th>\n",
       "      <th>MainBranch</th>\n",
       "      <th>Hobbyist</th>\n",
       "      <th>Age</th>\n",
       "      <th>Age1stCode</th>\n",
       "      <th>CompFreq</th>\n",
       "      <th>CompTotal</th>\n",
       "      <th>ConvertedComp</th>\n",
       "      <th>Country</th>\n",
       "      <th>CurrencyDesc</th>\n",
       "      <th>...</th>\n",
       "      <th>SurveyEase</th>\n",
       "      <th>SurveyLength</th>\n",
       "      <th>Trans</th>\n",
       "      <th>UndergradMajor</th>\n",
       "      <th>WebframeDesireNextYear</th>\n",
       "      <th>WebframeWorkedWith</th>\n",
       "      <th>WelcomeChange</th>\n",
       "      <th>WorkWeekHrs</th>\n",
       "      <th>YearsCode</th>\n",
       "      <th>YearsCodePro</th>\n",
       "    </tr>\n",
       "  </thead>\n",
       "  <tbody>\n",
       "    <tr>\n",
       "      <th>64456</th>\n",
       "      <td>64858</td>\n",
       "      <td>NaN</td>\n",
       "      <td>Yes</td>\n",
       "      <td>NaN</td>\n",
       "      <td>16</td>\n",
       "      <td>NaN</td>\n",
       "      <td>NaN</td>\n",
       "      <td>NaN</td>\n",
       "      <td>United States</td>\n",
       "      <td>NaN</td>\n",
       "      <td>...</td>\n",
       "      <td>NaN</td>\n",
       "      <td>NaN</td>\n",
       "      <td>NaN</td>\n",
       "      <td>Computer science, computer engineering, or sof...</td>\n",
       "      <td>NaN</td>\n",
       "      <td>NaN</td>\n",
       "      <td>NaN</td>\n",
       "      <td>NaN</td>\n",
       "      <td>10</td>\n",
       "      <td>Less than 1 year</td>\n",
       "    </tr>\n",
       "    <tr>\n",
       "      <th>64457</th>\n",
       "      <td>64867</td>\n",
       "      <td>NaN</td>\n",
       "      <td>Yes</td>\n",
       "      <td>NaN</td>\n",
       "      <td>NaN</td>\n",
       "      <td>NaN</td>\n",
       "      <td>NaN</td>\n",
       "      <td>NaN</td>\n",
       "      <td>Morocco</td>\n",
       "      <td>NaN</td>\n",
       "      <td>...</td>\n",
       "      <td>NaN</td>\n",
       "      <td>NaN</td>\n",
       "      <td>NaN</td>\n",
       "      <td>NaN</td>\n",
       "      <td>NaN</td>\n",
       "      <td>NaN</td>\n",
       "      <td>NaN</td>\n",
       "      <td>NaN</td>\n",
       "      <td>NaN</td>\n",
       "      <td>NaN</td>\n",
       "    </tr>\n",
       "    <tr>\n",
       "      <th>64458</th>\n",
       "      <td>64898</td>\n",
       "      <td>NaN</td>\n",
       "      <td>Yes</td>\n",
       "      <td>NaN</td>\n",
       "      <td>NaN</td>\n",
       "      <td>NaN</td>\n",
       "      <td>NaN</td>\n",
       "      <td>NaN</td>\n",
       "      <td>Viet Nam</td>\n",
       "      <td>NaN</td>\n",
       "      <td>...</td>\n",
       "      <td>NaN</td>\n",
       "      <td>NaN</td>\n",
       "      <td>NaN</td>\n",
       "      <td>NaN</td>\n",
       "      <td>NaN</td>\n",
       "      <td>NaN</td>\n",
       "      <td>NaN</td>\n",
       "      <td>NaN</td>\n",
       "      <td>NaN</td>\n",
       "      <td>NaN</td>\n",
       "    </tr>\n",
       "    <tr>\n",
       "      <th>64459</th>\n",
       "      <td>64925</td>\n",
       "      <td>NaN</td>\n",
       "      <td>Yes</td>\n",
       "      <td>NaN</td>\n",
       "      <td>NaN</td>\n",
       "      <td>NaN</td>\n",
       "      <td>NaN</td>\n",
       "      <td>NaN</td>\n",
       "      <td>Poland</td>\n",
       "      <td>NaN</td>\n",
       "      <td>...</td>\n",
       "      <td>NaN</td>\n",
       "      <td>NaN</td>\n",
       "      <td>NaN</td>\n",
       "      <td>NaN</td>\n",
       "      <td>Angular;Angular.js;React.js</td>\n",
       "      <td>NaN</td>\n",
       "      <td>NaN</td>\n",
       "      <td>NaN</td>\n",
       "      <td>NaN</td>\n",
       "      <td>NaN</td>\n",
       "    </tr>\n",
       "    <tr>\n",
       "      <th>64460</th>\n",
       "      <td>65112</td>\n",
       "      <td>NaN</td>\n",
       "      <td>Yes</td>\n",
       "      <td>NaN</td>\n",
       "      <td>NaN</td>\n",
       "      <td>NaN</td>\n",
       "      <td>NaN</td>\n",
       "      <td>NaN</td>\n",
       "      <td>Spain</td>\n",
       "      <td>NaN</td>\n",
       "      <td>...</td>\n",
       "      <td>NaN</td>\n",
       "      <td>NaN</td>\n",
       "      <td>NaN</td>\n",
       "      <td>Computer science, computer engineering, or sof...</td>\n",
       "      <td>ASP.NET Core;jQuery</td>\n",
       "      <td>Angular;Angular.js;ASP.NET Core;jQuery</td>\n",
       "      <td>NaN</td>\n",
       "      <td>NaN</td>\n",
       "      <td>NaN</td>\n",
       "      <td>NaN</td>\n",
       "    </tr>\n",
       "  </tbody>\n",
       "</table>\n",
       "<p>5 rows × 61 columns</p>\n",
       "</div>"
      ],
      "text/plain": [
       "       Respondent MainBranch Hobbyist  Age Age1stCode CompFreq  CompTotal  \\\n",
       "64456       64858        NaN      Yes  NaN         16      NaN        NaN   \n",
       "64457       64867        NaN      Yes  NaN        NaN      NaN        NaN   \n",
       "64458       64898        NaN      Yes  NaN        NaN      NaN        NaN   \n",
       "64459       64925        NaN      Yes  NaN        NaN      NaN        NaN   \n",
       "64460       65112        NaN      Yes  NaN        NaN      NaN        NaN   \n",
       "\n",
       "       ConvertedComp        Country CurrencyDesc  ... SurveyEase SurveyLength  \\\n",
       "64456            NaN  United States          NaN  ...        NaN          NaN   \n",
       "64457            NaN        Morocco          NaN  ...        NaN          NaN   \n",
       "64458            NaN       Viet Nam          NaN  ...        NaN          NaN   \n",
       "64459            NaN         Poland          NaN  ...        NaN          NaN   \n",
       "64460            NaN          Spain          NaN  ...        NaN          NaN   \n",
       "\n",
       "      Trans                                     UndergradMajor  \\\n",
       "64456   NaN  Computer science, computer engineering, or sof...   \n",
       "64457   NaN                                                NaN   \n",
       "64458   NaN                                                NaN   \n",
       "64459   NaN                                                NaN   \n",
       "64460   NaN  Computer science, computer engineering, or sof...   \n",
       "\n",
       "            WebframeDesireNextYear                      WebframeWorkedWith  \\\n",
       "64456                          NaN                                     NaN   \n",
       "64457                          NaN                                     NaN   \n",
       "64458                          NaN                                     NaN   \n",
       "64459  Angular;Angular.js;React.js                                     NaN   \n",
       "64460          ASP.NET Core;jQuery  Angular;Angular.js;ASP.NET Core;jQuery   \n",
       "\n",
       "      WelcomeChange WorkWeekHrs YearsCode      YearsCodePro  \n",
       "64456           NaN         NaN        10  Less than 1 year  \n",
       "64457           NaN         NaN       NaN               NaN  \n",
       "64458           NaN         NaN       NaN               NaN  \n",
       "64459           NaN         NaN       NaN               NaN  \n",
       "64460           NaN         NaN       NaN               NaN  \n",
       "\n",
       "[5 rows x 61 columns]"
      ]
     },
     "execution_count": 4,
     "metadata": {},
     "output_type": "execute_result"
    }
   ],
   "source": [
    "data_raw.tail()"
   ]
  },
  {
   "cell_type": "markdown",
   "metadata": {},
   "source": [
    "#### Podgląd zbioru"
   ]
  },
  {
   "cell_type": "code",
   "execution_count": 5,
   "metadata": {},
   "outputs": [
    {
     "name": "stdout",
     "output_type": "stream",
     "text": [
      "(64461, 61)\n",
      "\n",
      "\n",
      "Respondent              int64\n",
      "MainBranch             object\n",
      "Hobbyist               object\n",
      "Age                   float64\n",
      "Age1stCode             object\n",
      "                       ...   \n",
      "WebframeWorkedWith     object\n",
      "WelcomeChange          object\n",
      "WorkWeekHrs           float64\n",
      "YearsCode              object\n",
      "YearsCodePro           object\n",
      "Length: 61, dtype: object\n"
     ]
    }
   ],
   "source": [
    "print(data_raw.shape)\n",
    "print('\\n')\n",
    "print(data_raw.dtypes)"
   ]
  },
  {
   "cell_type": "markdown",
   "metadata": {},
   "source": [
    "#### Liczba atrybutów oraz typ danych"
   ]
  },
  {
   "cell_type": "code",
   "execution_count": 6,
   "metadata": {},
   "outputs": [
    {
     "name": "stdout",
     "output_type": "stream",
     "text": [
      "<class 'pandas.core.frame.DataFrame'>\n",
      "RangeIndex: 64461 entries, 0 to 64460\n",
      "Data columns (total 61 columns):\n",
      " #   Column                        Non-Null Count  Dtype  \n",
      "---  ------                        --------------  -----  \n",
      " 0   Respondent                    64461 non-null  int64  \n",
      " 1   MainBranch                    64162 non-null  object \n",
      " 2   Hobbyist                      64416 non-null  object \n",
      " 3   Age                           45446 non-null  float64\n",
      " 4   Age1stCode                    57900 non-null  object \n",
      " 5   CompFreq                      40069 non-null  object \n",
      " 6   CompTotal                     34826 non-null  float64\n",
      " 7   ConvertedComp                 34756 non-null  float64\n",
      " 8   Country                       64072 non-null  object \n",
      " 9   CurrencyDesc                  45472 non-null  object \n",
      " 10  CurrencySymbol                45472 non-null  object \n",
      " 11  DatabaseDesireNextYear        44070 non-null  object \n",
      " 12  DatabaseWorkedWith            49537 non-null  object \n",
      " 13  DevType                       49370 non-null  object \n",
      " 14  EdLevel                       57431 non-null  object \n",
      " 15  Employment                    63854 non-null  object \n",
      " 16  Ethnicity                     45948 non-null  object \n",
      " 17  Gender                        50557 non-null  object \n",
      " 18  JobFactors                    49349 non-null  object \n",
      " 19  JobSat                        45194 non-null  object \n",
      " 20  JobSeek                       51727 non-null  object \n",
      " 21  LanguageDesireNextYear        54113 non-null  object \n",
      " 22  LanguageWorkedWith            57378 non-null  object \n",
      " 23  MiscTechDesireNextYear        42379 non-null  object \n",
      " 24  MiscTechWorkedWith            40314 non-null  object \n",
      " 25  NEWCollabToolsDesireNextYear  47287 non-null  object \n",
      " 26  NEWCollabToolsWorkedWith      52883 non-null  object \n",
      " 27  NEWDevOps                     42686 non-null  object \n",
      " 28  NEWDevOpsImpt                 41732 non-null  object \n",
      " 29  NEWEdImpt                     48465 non-null  object \n",
      " 30  NEWJobHunt                    42286 non-null  object \n",
      " 31  NEWJobHuntResearch            41022 non-null  object \n",
      " 32  NEWLearn                      56156 non-null  object \n",
      " 33  NEWOffTopic                   50804 non-null  object \n",
      " 34  NEWOnboardGood                42623 non-null  object \n",
      " 35  NEWOtherComms                 57205 non-null  object \n",
      " 36  NEWOvertime                   43231 non-null  object \n",
      " 37  NEWPurchaseResearch           37321 non-null  object \n",
      " 38  NEWPurpleLink                 54803 non-null  object \n",
      " 39  NEWSOSites                    58275 non-null  object \n",
      " 40  NEWStuck                      54983 non-null  object \n",
      " 41  OpSys                         56228 non-null  object \n",
      " 42  OrgSize                       44334 non-null  object \n",
      " 43  PlatformDesireNextYear        50605 non-null  object \n",
      " 44  PlatformWorkedWith            53843 non-null  object \n",
      " 45  PurchaseWhat                  39364 non-null  object \n",
      " 46  Sexuality                     43992 non-null  object \n",
      " 47  SOAccount                     56805 non-null  object \n",
      " 48  SOComm                        56476 non-null  object \n",
      " 49  SOPartFreq                    46792 non-null  object \n",
      " 50  SOVisitFreq                   56970 non-null  object \n",
      " 51  SurveyEase                    51802 non-null  object \n",
      " 52  SurveyLength                  51701 non-null  object \n",
      " 53  Trans                         49345 non-null  object \n",
      " 54  UndergradMajor                50995 non-null  object \n",
      " 55  WebframeDesireNextYear        40024 non-null  object \n",
      " 56  WebframeWorkedWith            42279 non-null  object \n",
      " 57  WelcomeChange                 52683 non-null  object \n",
      " 58  WorkWeekHrs                   41151 non-null  float64\n",
      " 59  YearsCode                     57684 non-null  object \n",
      " 60  YearsCodePro                  46349 non-null  object \n",
      "dtypes: float64(4), int64(1), object(56)\n",
      "memory usage: 30.0+ MB\n"
     ]
    }
   ],
   "source": [
    "data_raw.info()"
   ]
  },
  {
   "cell_type": "markdown",
   "metadata": {},
   "source": [
    "Jak widać w zbiorze mamy 64461 rekrody, które zawierają 61 atrybutów.\n",
    "#### Następnie wyświetlimy podstawowe statystki opisowe atrybutów"
   ]
  },
  {
   "cell_type": "code",
   "execution_count": 7,
   "metadata": {},
   "outputs": [
    {
     "data": {
      "text/html": [
       "<div>\n",
       "<style scoped>\n",
       "    .dataframe tbody tr th:only-of-type {\n",
       "        vertical-align: middle;\n",
       "    }\n",
       "\n",
       "    .dataframe tbody tr th {\n",
       "        vertical-align: top;\n",
       "    }\n",
       "\n",
       "    .dataframe thead th {\n",
       "        text-align: right;\n",
       "    }\n",
       "</style>\n",
       "<table border=\"1\" class=\"dataframe\">\n",
       "  <thead>\n",
       "    <tr style=\"text-align: right;\">\n",
       "      <th></th>\n",
       "      <th>Respondent</th>\n",
       "      <th>Age</th>\n",
       "      <th>CompTotal</th>\n",
       "      <th>ConvertedComp</th>\n",
       "      <th>WorkWeekHrs</th>\n",
       "    </tr>\n",
       "  </thead>\n",
       "  <tbody>\n",
       "    <tr>\n",
       "      <th>count</th>\n",
       "      <td>64461.000000</td>\n",
       "      <td>45446.000000</td>\n",
       "      <td>3.482600e+04</td>\n",
       "      <td>3.475600e+04</td>\n",
       "      <td>41151.000000</td>\n",
       "    </tr>\n",
       "    <tr>\n",
       "      <th>mean</th>\n",
       "      <td>32554.079738</td>\n",
       "      <td>30.834111</td>\n",
       "      <td>3.190464e+242</td>\n",
       "      <td>1.037561e+05</td>\n",
       "      <td>40.782174</td>\n",
       "    </tr>\n",
       "    <tr>\n",
       "      <th>std</th>\n",
       "      <td>18967.442360</td>\n",
       "      <td>9.585392</td>\n",
       "      <td>inf</td>\n",
       "      <td>2.268853e+05</td>\n",
       "      <td>17.816383</td>\n",
       "    </tr>\n",
       "    <tr>\n",
       "      <th>min</th>\n",
       "      <td>1.000000</td>\n",
       "      <td>1.000000</td>\n",
       "      <td>0.000000e+00</td>\n",
       "      <td>0.000000e+00</td>\n",
       "      <td>1.000000</td>\n",
       "    </tr>\n",
       "    <tr>\n",
       "      <th>25%</th>\n",
       "      <td>16116.000000</td>\n",
       "      <td>24.000000</td>\n",
       "      <td>2.000000e+04</td>\n",
       "      <td>2.464800e+04</td>\n",
       "      <td>40.000000</td>\n",
       "    </tr>\n",
       "    <tr>\n",
       "      <th>50%</th>\n",
       "      <td>32231.000000</td>\n",
       "      <td>29.000000</td>\n",
       "      <td>6.300000e+04</td>\n",
       "      <td>5.404900e+04</td>\n",
       "      <td>40.000000</td>\n",
       "    </tr>\n",
       "    <tr>\n",
       "      <th>75%</th>\n",
       "      <td>49142.000000</td>\n",
       "      <td>35.000000</td>\n",
       "      <td>1.250000e+05</td>\n",
       "      <td>9.500000e+04</td>\n",
       "      <td>44.000000</td>\n",
       "    </tr>\n",
       "    <tr>\n",
       "      <th>max</th>\n",
       "      <td>65639.000000</td>\n",
       "      <td>279.000000</td>\n",
       "      <td>1.111111e+247</td>\n",
       "      <td>2.000000e+06</td>\n",
       "      <td>475.000000</td>\n",
       "    </tr>\n",
       "  </tbody>\n",
       "</table>\n",
       "</div>"
      ],
      "text/plain": [
       "         Respondent           Age      CompTotal  ConvertedComp   WorkWeekHrs\n",
       "count  64461.000000  45446.000000   3.482600e+04   3.475600e+04  41151.000000\n",
       "mean   32554.079738     30.834111  3.190464e+242   1.037561e+05     40.782174\n",
       "std    18967.442360      9.585392            inf   2.268853e+05     17.816383\n",
       "min        1.000000      1.000000   0.000000e+00   0.000000e+00      1.000000\n",
       "25%    16116.000000     24.000000   2.000000e+04   2.464800e+04     40.000000\n",
       "50%    32231.000000     29.000000   6.300000e+04   5.404900e+04     40.000000\n",
       "75%    49142.000000     35.000000   1.250000e+05   9.500000e+04     44.000000\n",
       "max    65639.000000    279.000000  1.111111e+247   2.000000e+06    475.000000"
      ]
     },
     "execution_count": 7,
     "metadata": {},
     "output_type": "execute_result"
    }
   ],
   "source": [
    "data_raw.describe()"
   ]
  },
  {
   "cell_type": "markdown",
   "metadata": {},
   "source": [
    "#### Do zbioru danych dodatkowo dołączony jest plik zawierający opisy zawartości atrybutów"
   ]
  },
  {
   "cell_type": "code",
   "execution_count": 8,
   "metadata": {},
   "outputs": [
    {
     "data": {
      "text/html": [
       "<div>\n",
       "<style scoped>\n",
       "    .dataframe tbody tr th:only-of-type {\n",
       "        vertical-align: middle;\n",
       "    }\n",
       "\n",
       "    .dataframe tbody tr th {\n",
       "        vertical-align: top;\n",
       "    }\n",
       "\n",
       "    .dataframe thead th {\n",
       "        text-align: right;\n",
       "    }\n",
       "</style>\n",
       "<table border=\"1\" class=\"dataframe\">\n",
       "  <thead>\n",
       "    <tr style=\"text-align: right;\">\n",
       "      <th></th>\n",
       "      <th>QuestionText</th>\n",
       "    </tr>\n",
       "    <tr>\n",
       "      <th>Column</th>\n",
       "      <th></th>\n",
       "    </tr>\n",
       "  </thead>\n",
       "  <tbody>\n",
       "    <tr>\n",
       "      <th>Respondent</th>\n",
       "      <td>Randomized respondent ID number (not in order of survey response time)</td>\n",
       "    </tr>\n",
       "    <tr>\n",
       "      <th>MainBranch</th>\n",
       "      <td>Which of the following options best describes you today? Here, by \"developer\" we mean \"someone who writes code.\"</td>\n",
       "    </tr>\n",
       "    <tr>\n",
       "      <th>Hobbyist</th>\n",
       "      <td>Do you code as a hobby?</td>\n",
       "    </tr>\n",
       "    <tr>\n",
       "      <th>Age</th>\n",
       "      <td>What is your age (in years)? If you prefer not to answer, you may leave this question blank.</td>\n",
       "    </tr>\n",
       "    <tr>\n",
       "      <th>Age1stCode</th>\n",
       "      <td>At what age did you write your first line of code or program? (e.g., webpage, Hello World, Scratch project)</td>\n",
       "    </tr>\n",
       "    <tr>\n",
       "      <th>CompFreq</th>\n",
       "      <td>Is that compensation weekly, monthly, or yearly?</td>\n",
       "    </tr>\n",
       "    <tr>\n",
       "      <th>CompTotal</th>\n",
       "      <td>What is your current total compensation (salary, bonuses, and perks, before taxes and deductions), in `CurrencySymbol`? Please enter a whole number in the box below, without any punctuation. If you are paid hourly, please estimate an equivalent weekly, monthly, or yearly salary. If you prefer not to answer, please leave the box empty.</td>\n",
       "    </tr>\n",
       "    <tr>\n",
       "      <th>ConvertedComp</th>\n",
       "      <td>Salary converted to annual USD salaries using the exchange rate on 2020-02-19, assuming 12 working months and 50 working weeks.</td>\n",
       "    </tr>\n",
       "    <tr>\n",
       "      <th>Country</th>\n",
       "      <td>Where do you live?</td>\n",
       "    </tr>\n",
       "    <tr>\n",
       "      <th>CurrencyDesc</th>\n",
       "      <td>Which currency do you use day-to-day? If your answer is complicated, please pick the one you're most comfortable estimating in.</td>\n",
       "    </tr>\n",
       "    <tr>\n",
       "      <th>CurrencySymbol</th>\n",
       "      <td>Which currency do you use day-to-day? If your answer is complicated, please pick the one you're most comfortable estimating in.</td>\n",
       "    </tr>\n",
       "    <tr>\n",
       "      <th>DatabaseDesireNextYear</th>\n",
       "      <td>Which database environments have you done extensive development work in over the past year, and which do you want to work in over the next year? (If you both worked with the database and want to continue to do so, please check both boxes in that row.)</td>\n",
       "    </tr>\n",
       "    <tr>\n",
       "      <th>DatabaseWorkedWith</th>\n",
       "      <td>Which database environments have you done extensive development work in over the past year, and which do you want to work in over the next year? (If you both worked with the database and want to continue to do so, please check both boxes in that row.)</td>\n",
       "    </tr>\n",
       "    <tr>\n",
       "      <th>DevType</th>\n",
       "      <td>Which of the following describe you? Please select all that apply.</td>\n",
       "    </tr>\n",
       "    <tr>\n",
       "      <th>EdLevel</th>\n",
       "      <td>Which of the following best describes the highest level of formal education that you’ve completed?</td>\n",
       "    </tr>\n",
       "    <tr>\n",
       "      <th>Employment</th>\n",
       "      <td>Which of the following best describes your current employment status?</td>\n",
       "    </tr>\n",
       "    <tr>\n",
       "      <th>Ethnicity</th>\n",
       "      <td>Which of the following describe you, if any? Please check all that apply. If you prefer not to answer, you may leave this question blank.</td>\n",
       "    </tr>\n",
       "    <tr>\n",
       "      <th>Gender</th>\n",
       "      <td>Which of the following describe you, if any? Please check all that apply. If you prefer not to answer, you may leave this question blank.</td>\n",
       "    </tr>\n",
       "    <tr>\n",
       "      <th>JobFactors</th>\n",
       "      <td>Imagine that you are deciding between two job offers with the same compensation, benefits, and location. Of the following factors, which 3 are MOST important to you?</td>\n",
       "    </tr>\n",
       "    <tr>\n",
       "      <th>JobSat</th>\n",
       "      <td>How satisfied are you with your current job? (If you work multiple jobs, answer for the one you spend the most hours on.)</td>\n",
       "    </tr>\n",
       "    <tr>\n",
       "      <th>JobSeek</th>\n",
       "      <td>Which of the following best describes your current job-seeking status?</td>\n",
       "    </tr>\n",
       "    <tr>\n",
       "      <th>LanguageDesireNextYear</th>\n",
       "      <td>Which programming, scripting, and markup languages have you done extensive development work in over the past year, and which do you want to work in over the next year? (If you both worked with the language and want to continue to do so, please check both boxes in that row.)</td>\n",
       "    </tr>\n",
       "    <tr>\n",
       "      <th>LanguageWorkedWith</th>\n",
       "      <td>Which programming, scripting, and markup languages have you done extensive development work in over the past year, and which do you want to work in over the next year? (If you both worked with the language and want to continue to do so, please check both boxes in that row.)</td>\n",
       "    </tr>\n",
       "    <tr>\n",
       "      <th>MiscTechDesireNextYear</th>\n",
       "      <td>Which other frameworks, libraries, and tools have you done extensive development work in over the past year, and which do you want to work in over the next year? (If you both worked with the framework and want to continue to do so, please check both boxes in that row.)</td>\n",
       "    </tr>\n",
       "    <tr>\n",
       "      <th>MiscTechWorkedWith</th>\n",
       "      <td>Which other frameworks, libraries, and tools have you done extensive development work in over the past year, and which do you want to work in over the next year? (If you both worked with the framework and want to continue to do so, please check both boxes in that row.)</td>\n",
       "    </tr>\n",
       "    <tr>\n",
       "      <th>NEWCollabToolsDesireNextYear</th>\n",
       "      <td>Which collaboration tools have you done extensive development work in over the past year, and which do you want to work in over the next year? (If you worked with the tool and want to continue to do so, please check both boxes in that row.)</td>\n",
       "    </tr>\n",
       "    <tr>\n",
       "      <th>NEWCollabToolsWorkedWith</th>\n",
       "      <td>Which collaboration tools have you done extensive development work in over the past year, and which do you want to work in over the next year? (If you worked with the tool and want to continue to do so, please check both boxes in that row.)</td>\n",
       "    </tr>\n",
       "    <tr>\n",
       "      <th>NEWDevOps</th>\n",
       "      <td>Does your company have a dedicated DevOps person?</td>\n",
       "    </tr>\n",
       "    <tr>\n",
       "      <th>NEWDevOpsImpt</th>\n",
       "      <td>How important is the practice of DevOps to scaling software development?</td>\n",
       "    </tr>\n",
       "    <tr>\n",
       "      <th>NEWEdImpt</th>\n",
       "      <td>How important is a formal education, such as a university degree in computer science, to your career?</td>\n",
       "    </tr>\n",
       "    <tr>\n",
       "      <th>NEWJobHunt</th>\n",
       "      <td>In general, what drives you to look for a new job? Select all that apply.</td>\n",
       "    </tr>\n",
       "    <tr>\n",
       "      <th>NEWJobHuntResearch</th>\n",
       "      <td>When job searching, how do you learn more about a company? Select all that apply.</td>\n",
       "    </tr>\n",
       "    <tr>\n",
       "      <th>NEWLearn</th>\n",
       "      <td>How frequently do you learn a new language or framework?</td>\n",
       "    </tr>\n",
       "    <tr>\n",
       "      <th>NEWOffTopic</th>\n",
       "      <td>Do you think Stack Overflow should relax restrictions on what is considered “off-topic”?</td>\n",
       "    </tr>\n",
       "    <tr>\n",
       "      <th>NEWOnboardGood</th>\n",
       "      <td>Do you think your company has a good onboarding process? (By onboarding, we mean the structured process of getting you settled in to your new role at a company)</td>\n",
       "    </tr>\n",
       "    <tr>\n",
       "      <th>NEWOtherComms</th>\n",
       "      <td>Are you a member of any other online developer communities?</td>\n",
       "    </tr>\n",
       "    <tr>\n",
       "      <th>NEWOvertime</th>\n",
       "      <td>How often do you work overtime or beyond the formal time expectation of your job?</td>\n",
       "    </tr>\n",
       "    <tr>\n",
       "      <th>NEWPurchaseResearch</th>\n",
       "      <td>When buying a new tool or software, how do you discover and research available solutions? Select all that apply.</td>\n",
       "    </tr>\n",
       "    <tr>\n",
       "      <th>NEWPurpleLink</th>\n",
       "      <td>You search for a coding solution online and the first result link is purple because you already visited it. How do you feel?</td>\n",
       "    </tr>\n",
       "    <tr>\n",
       "      <th>NEWSOSites</th>\n",
       "      <td>Which of the following Stack Overflow sites have you visited? Select all that apply.</td>\n",
       "    </tr>\n",
       "    <tr>\n",
       "      <th>NEWStuck</th>\n",
       "      <td>What do you do when you get stuck on a problem? Select all that apply.</td>\n",
       "    </tr>\n",
       "    <tr>\n",
       "      <th>OpSys</th>\n",
       "      <td>What is the primary operating system in which you work?</td>\n",
       "    </tr>\n",
       "    <tr>\n",
       "      <th>OrgSize</th>\n",
       "      <td>Approximately how many people are employed by the company or organization you currently work for?</td>\n",
       "    </tr>\n",
       "    <tr>\n",
       "      <th>PlatformDesireNextYear</th>\n",
       "      <td>Which platforms have you done extensive development work in over the past year, and which do you want to work in over the next year? (If you both worked with the platform and want to continue to do so, please check both boxes in that row.)</td>\n",
       "    </tr>\n",
       "    <tr>\n",
       "      <th>PlatformWorkedWith</th>\n",
       "      <td>Which platforms have you done extensive development work in over the past year, and which do you want to work in over the next year? (If you both worked with the platform and want to continue to do so, please check both boxes in that row.)</td>\n",
       "    </tr>\n",
       "    <tr>\n",
       "      <th>PurchaseWhat</th>\n",
       "      <td>What level of influence do you, personally, have over new technology purchases at your organization?</td>\n",
       "    </tr>\n",
       "    <tr>\n",
       "      <th>Sexuality</th>\n",
       "      <td>Which of the following describe you, if any? Please check all that apply. If you prefer not to answer, you may leave this question blank.</td>\n",
       "    </tr>\n",
       "    <tr>\n",
       "      <th>SOAccount</th>\n",
       "      <td>Do you have a Stack Overflow account?</td>\n",
       "    </tr>\n",
       "    <tr>\n",
       "      <th>SOComm</th>\n",
       "      <td>Do you consider yourself a member of the Stack Overflow community?</td>\n",
       "    </tr>\n",
       "    <tr>\n",
       "      <th>SOPartFreq</th>\n",
       "      <td>How frequently would you say you participate in Q&amp;A on Stack Overflow? By participate we mean ask, answer, vote for, or comment on questions.</td>\n",
       "    </tr>\n",
       "    <tr>\n",
       "      <th>SOVisitFreq</th>\n",
       "      <td>How frequently would you say you visit Stack Overflow?</td>\n",
       "    </tr>\n",
       "    <tr>\n",
       "      <th>SurveyEase</th>\n",
       "      <td>How easy or difficult was this survey to complete?</td>\n",
       "    </tr>\n",
       "    <tr>\n",
       "      <th>SurveyLength</th>\n",
       "      <td>How do you feel about the length of the survey this year?</td>\n",
       "    </tr>\n",
       "    <tr>\n",
       "      <th>Trans</th>\n",
       "      <td>Are you transgender?</td>\n",
       "    </tr>\n",
       "    <tr>\n",
       "      <th>UndergradMajor</th>\n",
       "      <td>What was your primary field of study?</td>\n",
       "    </tr>\n",
       "    <tr>\n",
       "      <th>WebframeDesireNextYear</th>\n",
       "      <td>Which web frameworks have you done extensive development work in over the past year, and which do you want to work in over the next year? (If you both worked with the framework and want to continue to do so, please check both boxes in that row.)</td>\n",
       "    </tr>\n",
       "    <tr>\n",
       "      <th>WebframeWorkedWith</th>\n",
       "      <td>Which web frameworks have you done extensive development work in over the past year, and which do you want to work in over the next year? (If you both worked with the framework and want to continue to do so, please check both boxes in that row.)</td>\n",
       "    </tr>\n",
       "    <tr>\n",
       "      <th>WelcomeChange</th>\n",
       "      <td>Compared to last year, how welcome do you feel on Stack Overflow?</td>\n",
       "    </tr>\n",
       "    <tr>\n",
       "      <th>WorkWeekHrs</th>\n",
       "      <td>On average, how many hours per week do you work? Please enter a whole number in the box.</td>\n",
       "    </tr>\n",
       "    <tr>\n",
       "      <th>YearsCode</th>\n",
       "      <td>Including any education, how many years have you been coding in total?</td>\n",
       "    </tr>\n",
       "    <tr>\n",
       "      <th>YearsCodePro</th>\n",
       "      <td>NOT including education, how many years have you coded professionally (as a part of your work)?</td>\n",
       "    </tr>\n",
       "  </tbody>\n",
       "</table>\n",
       "</div>"
      ],
      "text/plain": [
       "                                                                                                                                                                                                                                                                                                                                                                  QuestionText\n",
       "Column                                                                                                                                                                                                                                                                                                                                                                        \n",
       "Respondent                                                                                                                                                                                                                                                                                              Randomized respondent ID number (not in order of survey response time)\n",
       "MainBranch                                                                                                                                                                                                                                                    Which of the following options best describes you today? Here, by \"developer\" we mean \"someone who writes code.\"\n",
       "Hobbyist                                                                                                                                                                                                                                                                                                                                               Do you code as a hobby?\n",
       "Age                                                                                                                                                                                                                                                                               What is your age (in years)? If you prefer not to answer, you may leave this question blank.\n",
       "Age1stCode                                                                                                                                                                                                                                                         At what age did you write your first line of code or program? (e.g., webpage, Hello World, Scratch project)\n",
       "CompFreq                                                                                                                                                                                                                                                                                                                      Is that compensation weekly, monthly, or yearly?\n",
       "CompTotal                     What is your current total compensation (salary, bonuses, and perks, before taxes and deductions), in `CurrencySymbol`? Please enter a whole number in the box below, without any punctuation. If you are paid hourly, please estimate an equivalent weekly, monthly, or yearly salary. If you prefer not to answer, please leave the box empty.\n",
       "ConvertedComp                                                                                                                                                                                                                                  Salary converted to annual USD salaries using the exchange rate on 2020-02-19, assuming 12 working months and 50 working weeks.\n",
       "Country                                                                                                                                                                                                                                                                                                                                                     Where do you live?\n",
       "CurrencyDesc                                                                                                                                                                                                                                   Which currency do you use day-to-day? If your answer is complicated, please pick the one you're most comfortable estimating in.\n",
       "CurrencySymbol                                                                                                                                                                                                                                 Which currency do you use day-to-day? If your answer is complicated, please pick the one you're most comfortable estimating in.\n",
       "DatabaseDesireNextYear                                                                                             Which database environments have you done extensive development work in over the past year, and which do you want to work in over the next year? (If you both worked with the database and want to continue to do so, please check both boxes in that row.)\n",
       "DatabaseWorkedWith                                                                                                 Which database environments have you done extensive development work in over the past year, and which do you want to work in over the next year? (If you both worked with the database and want to continue to do so, please check both boxes in that row.)\n",
       "DevType                                                                                                                                                                                                                                                                                                     Which of the following describe you? Please select all that apply.\n",
       "EdLevel                                                                                                                                                                                                                                                                     Which of the following best describes the highest level of formal education that you’ve completed?\n",
       "Employment                                                                                                                                                                                                                                                                                               Which of the following best describes your current employment status?\n",
       "Ethnicity                                                                                                                                                                                                                            Which of the following describe you, if any? Please check all that apply. If you prefer not to answer, you may leave this question blank.\n",
       "Gender                                                                                                                                                                                                                               Which of the following describe you, if any? Please check all that apply. If you prefer not to answer, you may leave this question blank.\n",
       "JobFactors                                                                                                                                                                                               Imagine that you are deciding between two job offers with the same compensation, benefits, and location. Of the following factors, which 3 are MOST important to you?\n",
       "JobSat                                                                                                                                                                                                                                               How satisfied are you with your current job? (If you work multiple jobs, answer for the one you spend the most hours on.)\n",
       "JobSeek                                                                                                                                                                                                                                                                                                 Which of the following best describes your current job-seeking status?\n",
       "LanguageDesireNextYear                                                                      Which programming, scripting, and markup languages have you done extensive development work in over the past year, and which do you want to work in over the next year? (If you both worked with the language and want to continue to do so, please check both boxes in that row.)\n",
       "LanguageWorkedWith                                                                          Which programming, scripting, and markup languages have you done extensive development work in over the past year, and which do you want to work in over the next year? (If you both worked with the language and want to continue to do so, please check both boxes in that row.)\n",
       "MiscTechDesireNextYear                                                                           Which other frameworks, libraries, and tools have you done extensive development work in over the past year, and which do you want to work in over the next year? (If you both worked with the framework and want to continue to do so, please check both boxes in that row.)\n",
       "MiscTechWorkedWith                                                                               Which other frameworks, libraries, and tools have you done extensive development work in over the past year, and which do you want to work in over the next year? (If you both worked with the framework and want to continue to do so, please check both boxes in that row.)\n",
       "NEWCollabToolsDesireNextYear                                                                                                  Which collaboration tools have you done extensive development work in over the past year, and which do you want to work in over the next year? (If you worked with the tool and want to continue to do so, please check both boxes in that row.)\n",
       "NEWCollabToolsWorkedWith                                                                                                      Which collaboration tools have you done extensive development work in over the past year, and which do you want to work in over the next year? (If you worked with the tool and want to continue to do so, please check both boxes in that row.)\n",
       "NEWDevOps                                                                                                                                                                                                                                                                                                                    Does your company have a dedicated DevOps person?\n",
       "NEWDevOpsImpt                                                                                                                                                                                                                                                                                         How important is the practice of DevOps to scaling software development?\n",
       "NEWEdImpt                                                                                                                                                                                                                                                                How important is a formal education, such as a university degree in computer science, to your career?\n",
       "NEWJobHunt                                                                                                                                                                                                                                                                                           In general, what drives you to look for a new job? Select all that apply.\n",
       "NEWJobHuntResearch                                                                                                                                                                                                                                                                           When job searching, how do you learn more about a company? Select all that apply.\n",
       "NEWLearn                                                                                                                                                                                                                                                                                                              How frequently do you learn a new language or framework?\n",
       "NEWOffTopic                                                                                                                                                                                                                                                                           Do you think Stack Overflow should relax restrictions on what is considered “off-topic”?\n",
       "NEWOnboardGood                                                                                                                                                                                                Do you think your company has a good onboarding process? (By onboarding, we mean the structured process of getting you settled in to your new role at a company)\n",
       "NEWOtherComms                                                                                                                                                                                                                                                                                                      Are you a member of any other online developer communities?\n",
       "NEWOvertime                                                                                                                                                                                                                                                                                  How often do you work overtime or beyond the formal time expectation of your job?\n",
       "NEWPurchaseResearch                                                                                                                                                                                                                                           When buying a new tool or software, how do you discover and research available solutions? Select all that apply.\n",
       "NEWPurpleLink                                                                                                                                                                                                                                     You search for a coding solution online and the first result link is purple because you already visited it. How do you feel?\n",
       "NEWSOSites                                                                                                                                                                                                                                                                                Which of the following Stack Overflow sites have you visited? Select all that apply.\n",
       "NEWStuck                                                                                                                                                                                                                                                                                                What do you do when you get stuck on a problem? Select all that apply.\n",
       "OpSys                                                                                                                                                                                                                                                                                                                  What is the primary operating system in which you work?\n",
       "OrgSize                                                                                                                                                                                                                                                                      Approximately how many people are employed by the company or organization you currently work for?\n",
       "PlatformDesireNextYear                                                                                                         Which platforms have you done extensive development work in over the past year, and which do you want to work in over the next year? (If you both worked with the platform and want to continue to do so, please check both boxes in that row.)\n",
       "PlatformWorkedWith                                                                                                             Which platforms have you done extensive development work in over the past year, and which do you want to work in over the next year? (If you both worked with the platform and want to continue to do so, please check both boxes in that row.)\n",
       "PurchaseWhat                                                                                                                                                                                                                                                              What level of influence do you, personally, have over new technology purchases at your organization?\n",
       "Sexuality                                                                                                                                                                                                                            Which of the following describe you, if any? Please check all that apply. If you prefer not to answer, you may leave this question blank.\n",
       "SOAccount                                                                                                                                                                                                                                                                                                                                Do you have a Stack Overflow account?\n",
       "SOComm                                                                                                                                                                                                                                                                                                      Do you consider yourself a member of the Stack Overflow community?\n",
       "SOPartFreq                                                                                                                                                                                                                       How frequently would you say you participate in Q&A on Stack Overflow? By participate we mean ask, answer, vote for, or comment on questions.\n",
       "SOVisitFreq                                                                                                                                                                                                                                                                                                             How frequently would you say you visit Stack Overflow?\n",
       "SurveyEase                                                                                                                                                                                                                                                                                                                  How easy or difficult was this survey to complete?\n",
       "SurveyLength                                                                                                                                                                                                                                                                                                         How do you feel about the length of the survey this year?\n",
       "Trans                                                                                                                                                                                                                                                                                                                                                     Are you transgender?\n",
       "UndergradMajor                                                                                                                                                                                                                                                                                                                           What was your primary field of study?\n",
       "WebframeDesireNextYear                                                                                                   Which web frameworks have you done extensive development work in over the past year, and which do you want to work in over the next year? (If you both worked with the framework and want to continue to do so, please check both boxes in that row.)\n",
       "WebframeWorkedWith                                                                                                       Which web frameworks have you done extensive development work in over the past year, and which do you want to work in over the next year? (If you both worked with the framework and want to continue to do so, please check both boxes in that row.)\n",
       "WelcomeChange                                                                                                                                                                                                                                                                                                Compared to last year, how welcome do you feel on Stack Overflow?\n",
       "WorkWeekHrs                                                                                                                                                                                                                                                                           On average, how many hours per week do you work? Please enter a whole number in the box.\n",
       "YearsCode                                                                                                                                                                                                                                                                                               Including any education, how many years have you been coding in total?\n",
       "YearsCodePro                                                                                                                                                                                                                                                                   NOT including education, how many years have you coded professionally (as a part of your work)?"
      ]
     },
     "execution_count": 8,
     "metadata": {},
     "output_type": "execute_result"
    }
   ],
   "source": [
    "schema_raw = pd.read_csv(schema_file_name, index_col='Column')\n",
    "pd.set_option('display.max_rows', schema_raw.shape[0]+1)\n",
    "pd.set_option('max_colwidth', None)\n",
    "schema_raw"
   ]
  },
  {
   "cell_type": "markdown",
   "metadata": {},
   "source": [
    "Następnie przygotujemy zmienną dzięki której będziemy mogli odczytywać pytanie należące do danej kolumny."
   ]
  },
  {
   "cell_type": "code",
   "execution_count": 9,
   "metadata": {},
   "outputs": [],
   "source": [
    "schema_raw = pd.read_csv(schema_file_name, index_col='Column').QuestionText"
   ]
  },
  {
   "cell_type": "code",
   "execution_count": 10,
   "metadata": {},
   "outputs": [
    {
     "data": {
      "text/plain": [
       "'On average, how many hours per week do you work? Please enter a whole number in the box.'"
      ]
     },
     "execution_count": 10,
     "metadata": {},
     "output_type": "execute_result"
    }
   ],
   "source": [
    "# Dowolna nazwa kolumny\n",
    "schema_raw['WorkWeekHrs']"
   ]
  },
  {
   "cell_type": "markdown",
   "metadata": {},
   "source": [
    "## Krok 2: Przygotowanie danych"
   ]
  },
  {
   "cell_type": "markdown",
   "metadata": {},
   "source": [
    "Niektóre kolumny posiadają źle określony typ danych, co może skutkować błędami w dalszym przygotowaniu zbioru do analizy. Nasze przygotowanie rozpoczniemy od wskazania prawidłowego typu danych w kolumnach."
   ]
  },
  {
   "cell_type": "markdown",
   "metadata": {},
   "source": [
    "Atrybut \"Age\" zawiera liczby typu \"float\" odzielone znakiem przecinka, co jest błędnie rozpoznawana przez interpreter. Aby typ kolumny został prawidłowo przekonwerotowany do typu float, musimy zamienieć znak przecnika na kropkę."
   ]
  },
  {
   "cell_type": "code",
   "execution_count": 11,
   "metadata": {},
   "outputs": [],
   "source": [
    "selected_columns = [\n",
    "    # Demographics\n",
    "    'Country',\n",
    "    'Age',\n",
    "    'Gender',\n",
    "    'EdLevel',\n",
    "    'UndergradMajor',\n",
    "    # Programming experience\n",
    "    'Hobbyist',\n",
    "    'Age1stCode',\n",
    "    'YearsCode',\n",
    "    'YearsCodePro',\n",
    "    'LanguageWorkedWith',\n",
    "    'LanguageDesireNextYear',\n",
    "    'NEWLearn',\n",
    "    'NEWStuck',\n",
    "    # Employment\n",
    "    'Employment',\n",
    "    'DevType',\n",
    "    'WorkWeekHrs',\n",
    "    'JobSat',\n",
    "    'JobFactors',\n",
    "    'NEWOvertime',\n",
    "    'NEWEdImpt'\n",
    "]"
   ]
  },
  {
   "cell_type": "markdown",
   "metadata": {},
   "source": [
    "W atrybucie \"Fare\" dodatkowo jeden z wierszy zawiera znak alfanumeryczny. Musimy przefiltrować wartości kolumny, aby zawierała tylko cyfry."
   ]
  },
  {
   "cell_type": "code",
   "execution_count": 12,
   "metadata": {},
   "outputs": [
    {
     "data": {
      "text/plain": [
       "20"
      ]
     },
     "execution_count": 12,
     "metadata": {},
     "output_type": "execute_result"
    }
   ],
   "source": [
    "len(selected_columns)"
   ]
  },
  {
   "cell_type": "markdown",
   "metadata": {},
   "source": [
    "Po przekstałecniu typów danych tak prezentują się kolumny oraz 10 pierwszych wierszy zbioru."
   ]
  },
  {
   "cell_type": "code",
   "execution_count": 13,
   "metadata": {},
   "outputs": [],
   "source": [
    "data = data_raw[selected_columns].copy()"
   ]
  },
  {
   "cell_type": "code",
   "execution_count": 14,
   "metadata": {},
   "outputs": [],
   "source": [
    "schema = schema_raw[selected_columns]"
   ]
  },
  {
   "cell_type": "markdown",
   "metadata": {},
   "source": [
    "Wyświetlimy podstawowe informacje o ramce danych"
   ]
  },
  {
   "cell_type": "code",
   "execution_count": 15,
   "metadata": {},
   "outputs": [
    {
     "data": {
      "text/plain": [
       "(64461, 20)"
      ]
     },
     "execution_count": 15,
     "metadata": {},
     "output_type": "execute_result"
    }
   ],
   "source": [
    "data.shape"
   ]
  },
  {
   "cell_type": "code",
   "execution_count": 16,
   "metadata": {},
   "outputs": [
    {
     "name": "stdout",
     "output_type": "stream",
     "text": [
      "<class 'pandas.core.frame.DataFrame'>\n",
      "RangeIndex: 64461 entries, 0 to 64460\n",
      "Data columns (total 20 columns):\n",
      " #   Column                  Non-Null Count  Dtype  \n",
      "---  ------                  --------------  -----  \n",
      " 0   Country                 64072 non-null  object \n",
      " 1   Age                     45446 non-null  float64\n",
      " 2   Gender                  50557 non-null  object \n",
      " 3   EdLevel                 57431 non-null  object \n",
      " 4   UndergradMajor          50995 non-null  object \n",
      " 5   Hobbyist                64416 non-null  object \n",
      " 6   Age1stCode              57900 non-null  object \n",
      " 7   YearsCode               57684 non-null  object \n",
      " 8   YearsCodePro            46349 non-null  object \n",
      " 9   LanguageWorkedWith      57378 non-null  object \n",
      " 10  LanguageDesireNextYear  54113 non-null  object \n",
      " 11  NEWLearn                56156 non-null  object \n",
      " 12  NEWStuck                54983 non-null  object \n",
      " 13  Employment              63854 non-null  object \n",
      " 14  DevType                 49370 non-null  object \n",
      " 15  WorkWeekHrs             41151 non-null  float64\n",
      " 16  JobSat                  45194 non-null  object \n",
      " 17  JobFactors              49349 non-null  object \n",
      " 18  NEWOvertime             43231 non-null  object \n",
      " 19  NEWEdImpt               48465 non-null  object \n",
      "dtypes: float64(2), object(18)\n",
      "memory usage: 9.8+ MB\n"
     ]
    }
   ],
   "source": [
    "data.info()"
   ]
  },
  {
   "cell_type": "markdown",
   "metadata": {},
   "source": [
    "Następnie określimy pradwidłowe typy dla naszy danych"
   ]
  },
  {
   "cell_type": "markdown",
   "metadata": {},
   "source": [
    "Zaczniemy od atrybutu \"Age1stCode\""
   ]
  },
  {
   "cell_type": "code",
   "execution_count": 17,
   "metadata": {},
   "outputs": [
    {
     "data": {
      "text/plain": [
       "'At what age did you write your first line of code or program? (e.g., webpage, Hello World, Scratch project)'"
      ]
     },
     "execution_count": 17,
     "metadata": {},
     "output_type": "execute_result"
    }
   ],
   "source": [
    "schema['Age1stCode']"
   ]
  },
  {
   "cell_type": "markdown",
   "metadata": {},
   "source": [
    "Według pytania, atrybut powinnien zawierać wartości liczbowe określające wiek osoby ankietowanej"
   ]
  },
  {
   "cell_type": "code",
   "execution_count": 18,
   "metadata": {},
   "outputs": [
    {
     "data": {
      "text/plain": [
       "array(['13', '19', '15', '18', '16', '14', '12', '20', '42', '8', '25',\n",
       "       '22', '30', '17', '21', '10', '46', '9', '7', '11', '6', nan, '31',\n",
       "       '29', '5', 'Younger than 5 years', '28', '38', '23', '27', '41',\n",
       "       '24', '53', '26', '35', '32', '40', '33', '36', '54', '48', '56',\n",
       "       '45', '44', '34', 'Older than 85', '39', '51', '68', '50', '37',\n",
       "       '47', '43', '52', '85', '64', '55', '58', '49', '76', '72', '73',\n",
       "       '83', '63'], dtype=object)"
      ]
     },
     "execution_count": 18,
     "metadata": {},
     "output_type": "execute_result"
    }
   ],
   "source": [
    "data['Age1stCode'].unique()"
   ]
  },
  {
   "cell_type": "markdown",
   "metadata": {},
   "source": [
    "Jak widać trafiają się również ciągi znaków np, \"Older than 85\". Zamiennimy te wartości na puste, ponieważ określają one warotści odstające, które nie są przydatne w anzalizie. Wykonamy tą samą operacje dla 'YearsCode' oraz 'YearsCodePro' ponieważ te atrybuty określają podobne wartości. Poniższe operacje przekstzałcą wartości liczobwe na liczby, a ciągi znaków na wartości puste."
   ]
  },
  {
   "cell_type": "code",
   "execution_count": 19,
   "metadata": {},
   "outputs": [],
   "source": [
    "data['Age1stCode'] = pd.to_numeric(data['Age1stCode'], errors='coerce')\n",
    "data['YearsCode'] = pd.to_numeric(data['YearsCode'], errors='coerce')\n",
    "data['YearsCodePro'] = pd.to_numeric(data['YearsCodePro'], errors='coerce')"
   ]
  },
  {
   "cell_type": "markdown",
   "metadata": {},
   "source": [
    "Wyświetlimy podstawe informacje po przekształceniu wartości"
   ]
  },
  {
   "cell_type": "code",
   "execution_count": 20,
   "metadata": {},
   "outputs": [
    {
     "data": {
      "text/html": [
       "<div>\n",
       "<style scoped>\n",
       "    .dataframe tbody tr th:only-of-type {\n",
       "        vertical-align: middle;\n",
       "    }\n",
       "\n",
       "    .dataframe tbody tr th {\n",
       "        vertical-align: top;\n",
       "    }\n",
       "\n",
       "    .dataframe thead th {\n",
       "        text-align: right;\n",
       "    }\n",
       "</style>\n",
       "<table border=\"1\" class=\"dataframe\">\n",
       "  <thead>\n",
       "    <tr style=\"text-align: right;\">\n",
       "      <th></th>\n",
       "      <th>Age</th>\n",
       "      <th>Age1stCode</th>\n",
       "      <th>YearsCode</th>\n",
       "      <th>YearsCodePro</th>\n",
       "      <th>WorkWeekHrs</th>\n",
       "    </tr>\n",
       "  </thead>\n",
       "  <tbody>\n",
       "    <tr>\n",
       "      <th>count</th>\n",
       "      <td>45446.000000</td>\n",
       "      <td>57473.000000</td>\n",
       "      <td>56784.000000</td>\n",
       "      <td>44133.000000</td>\n",
       "      <td>41151.000000</td>\n",
       "    </tr>\n",
       "    <tr>\n",
       "      <th>mean</th>\n",
       "      <td>30.834111</td>\n",
       "      <td>15.476572</td>\n",
       "      <td>12.782051</td>\n",
       "      <td>8.869667</td>\n",
       "      <td>40.782174</td>\n",
       "    </tr>\n",
       "    <tr>\n",
       "      <th>std</th>\n",
       "      <td>9.585392</td>\n",
       "      <td>5.114081</td>\n",
       "      <td>9.490657</td>\n",
       "      <td>7.759961</td>\n",
       "      <td>17.816383</td>\n",
       "    </tr>\n",
       "    <tr>\n",
       "      <th>min</th>\n",
       "      <td>1.000000</td>\n",
       "      <td>5.000000</td>\n",
       "      <td>1.000000</td>\n",
       "      <td>1.000000</td>\n",
       "      <td>1.000000</td>\n",
       "    </tr>\n",
       "    <tr>\n",
       "      <th>25%</th>\n",
       "      <td>24.000000</td>\n",
       "      <td>12.000000</td>\n",
       "      <td>6.000000</td>\n",
       "      <td>3.000000</td>\n",
       "      <td>40.000000</td>\n",
       "    </tr>\n",
       "    <tr>\n",
       "      <th>50%</th>\n",
       "      <td>29.000000</td>\n",
       "      <td>15.000000</td>\n",
       "      <td>10.000000</td>\n",
       "      <td>6.000000</td>\n",
       "      <td>40.000000</td>\n",
       "    </tr>\n",
       "    <tr>\n",
       "      <th>75%</th>\n",
       "      <td>35.000000</td>\n",
       "      <td>18.000000</td>\n",
       "      <td>17.000000</td>\n",
       "      <td>12.000000</td>\n",
       "      <td>44.000000</td>\n",
       "    </tr>\n",
       "    <tr>\n",
       "      <th>max</th>\n",
       "      <td>279.000000</td>\n",
       "      <td>85.000000</td>\n",
       "      <td>50.000000</td>\n",
       "      <td>50.000000</td>\n",
       "      <td>475.000000</td>\n",
       "    </tr>\n",
       "  </tbody>\n",
       "</table>\n",
       "</div>"
      ],
      "text/plain": [
       "                Age    Age1stCode     YearsCode  YearsCodePro   WorkWeekHrs\n",
       "count  45446.000000  57473.000000  56784.000000  44133.000000  41151.000000\n",
       "mean      30.834111     15.476572     12.782051      8.869667     40.782174\n",
       "std        9.585392      5.114081      9.490657      7.759961     17.816383\n",
       "min        1.000000      5.000000      1.000000      1.000000      1.000000\n",
       "25%       24.000000     12.000000      6.000000      3.000000     40.000000\n",
       "50%       29.000000     15.000000     10.000000      6.000000     40.000000\n",
       "75%       35.000000     18.000000     17.000000     12.000000     44.000000\n",
       "max      279.000000     85.000000     50.000000     50.000000    475.000000"
      ]
     },
     "execution_count": 20,
     "metadata": {},
     "output_type": "execute_result"
    }
   ],
   "source": [
    "data.describe()"
   ]
  },
  {
   "cell_type": "markdown",
   "metadata": {},
   "source": [
    "Wydaje się, że występuje problem z kolumną wieku, ponieważ minimalna wartość to 1, a maksymalna to 279. Jest to częsty problem z ankietami: odpowiedzi mogą zawierać nieprawidłowe wartości z powodu przypadkowych lub celowych błędów podczas odpowiadania. Prostym rozwiązaniem byłoby zignorowanie wierszy, w których wiek jest wyższy niż 100 lat lub niższy niż 10 lat, jako nieprawidłowe odpowiedzi na ankietę. Możemy to zrobić za pomocą metody .drop,"
   ]
  },
  {
   "cell_type": "code",
   "execution_count": 21,
   "metadata": {},
   "outputs": [],
   "source": [
    "data.drop(data[data['Age'] < 10].index, inplace=True)\n",
    "data.drop(data[data['Age'] > 100].index, inplace=True)"
   ]
  },
  {
   "cell_type": "markdown",
   "metadata": {},
   "source": [
    "To samo dotyczy WorkWeekHrs. Zignorujmy wpisy, w których wartość kolumny jest większa niż 140 godzin. (~ 20 godzin dziennie)."
   ]
  },
  {
   "cell_type": "code",
   "execution_count": 22,
   "metadata": {},
   "outputs": [],
   "source": [
    "data.drop(data[data['WorkWeekHrs'] > 140].index, inplace=True)"
   ]
  },
  {
   "cell_type": "markdown",
   "metadata": {},
   "source": [
    "Kolumna płeć pozwala również na wybranie wielu opcji. Usuniemy wartości zawierające więcej niż jedną opcję, aby uprościć naszą analizę."
   ]
  },
  {
   "cell_type": "code",
   "execution_count": 23,
   "metadata": {},
   "outputs": [
    {
     "data": {
      "text/plain": [
       "Man                                                            45895\n",
       "Woman                                                           3835\n",
       "Non-binary, genderqueer, or gender non-conforming                385\n",
       "Man;Non-binary, genderqueer, or gender non-conforming            121\n",
       "Woman;Non-binary, genderqueer, or gender non-conforming           92\n",
       "Woman;Man                                                         73\n",
       "Woman;Man;Non-binary, genderqueer, or gender non-conforming       25\n",
       "Name: Gender, dtype: int64"
      ]
     },
     "execution_count": 23,
     "metadata": {},
     "output_type": "execute_result"
    }
   ],
   "source": [
    "data['Gender'].value_counts()"
   ]
  },
  {
   "cell_type": "code",
   "execution_count": 24,
   "metadata": {},
   "outputs": [],
   "source": [
    "data.where(~(data['Gender'].str.contains(';', na=False)), np.nan, inplace=True)"
   ]
  },
  {
   "cell_type": "markdown",
   "metadata": {},
   "source": [
    "Wyczyściliśmy teraz i przygotowaliśmy zbiór danych do analizy. Przyjrzyjmy się próbce wierszy z ramki danych."
   ]
  },
  {
   "cell_type": "code",
   "execution_count": 25,
   "metadata": {},
   "outputs": [
    {
     "data": {
      "text/html": [
       "<div>\n",
       "<style scoped>\n",
       "    .dataframe tbody tr th:only-of-type {\n",
       "        vertical-align: middle;\n",
       "    }\n",
       "\n",
       "    .dataframe tbody tr th {\n",
       "        vertical-align: top;\n",
       "    }\n",
       "\n",
       "    .dataframe thead th {\n",
       "        text-align: right;\n",
       "    }\n",
       "</style>\n",
       "<table border=\"1\" class=\"dataframe\">\n",
       "  <thead>\n",
       "    <tr style=\"text-align: right;\">\n",
       "      <th></th>\n",
       "      <th>Country</th>\n",
       "      <th>Age</th>\n",
       "      <th>Gender</th>\n",
       "      <th>EdLevel</th>\n",
       "      <th>UndergradMajor</th>\n",
       "      <th>Hobbyist</th>\n",
       "      <th>Age1stCode</th>\n",
       "      <th>YearsCode</th>\n",
       "      <th>YearsCodePro</th>\n",
       "      <th>LanguageWorkedWith</th>\n",
       "      <th>LanguageDesireNextYear</th>\n",
       "      <th>NEWLearn</th>\n",
       "      <th>NEWStuck</th>\n",
       "      <th>Employment</th>\n",
       "      <th>DevType</th>\n",
       "      <th>WorkWeekHrs</th>\n",
       "      <th>JobSat</th>\n",
       "      <th>JobFactors</th>\n",
       "      <th>NEWOvertime</th>\n",
       "      <th>NEWEdImpt</th>\n",
       "    </tr>\n",
       "  </thead>\n",
       "  <tbody>\n",
       "    <tr>\n",
       "      <th>13530</th>\n",
       "      <td>Russian Federation</td>\n",
       "      <td>33.0</td>\n",
       "      <td>Man</td>\n",
       "      <td>Master’s degree (M.A., M.S., M.Eng., MBA, etc.)</td>\n",
       "      <td>Computer science, computer engineering, or software engineering</td>\n",
       "      <td>Yes</td>\n",
       "      <td>11.0</td>\n",
       "      <td>22.0</td>\n",
       "      <td>15.0</td>\n",
       "      <td>Go;JavaScript;Objective-C;Python;Ruby;Swift</td>\n",
       "      <td>Go;JavaScript;Ruby;Swift</td>\n",
       "      <td>Once every few years</td>\n",
       "      <td>Meditate;Visit Stack Overflow;Go for a walk or other physical activity;Do other work and come back later</td>\n",
       "      <td>Employed full-time</td>\n",
       "      <td>Developer, back-end;Developer, full-stack;DevOps specialist;Senior executive/VP</td>\n",
       "      <td>50.0</td>\n",
       "      <td>Slightly satisfied</td>\n",
       "      <td>Languages, frameworks, and other technologies I’d be working with;How widely used or impactful my work output would be;Office environment or company culture</td>\n",
       "      <td>Often: 1-2 days per week or more</td>\n",
       "      <td>Very important</td>\n",
       "    </tr>\n",
       "    <tr>\n",
       "      <th>42701</th>\n",
       "      <td>Israel</td>\n",
       "      <td>31.0</td>\n",
       "      <td>Woman</td>\n",
       "      <td>NaN</td>\n",
       "      <td>A business discipline (such as accounting, finance, marketing, etc.)</td>\n",
       "      <td>No</td>\n",
       "      <td>15.0</td>\n",
       "      <td>6.0</td>\n",
       "      <td>2.0</td>\n",
       "      <td>Bash/Shell/PowerShell;C;Python</td>\n",
       "      <td>C;C++;Python</td>\n",
       "      <td>Once a year</td>\n",
       "      <td>Call a coworker or friend;Visit Stack Overflow;Go for a walk or other physical activity;Panic;Watch help / tutorial videos;Do other work and come back later</td>\n",
       "      <td>Employed full-time</td>\n",
       "      <td>Developer, embedded applications or devices</td>\n",
       "      <td>48.0</td>\n",
       "      <td>Very satisfied</td>\n",
       "      <td>Diversity of the company or organization;How widely used or impactful my work output would be;Opportunities for professional development</td>\n",
       "      <td>Often: 1-2 days per week or more</td>\n",
       "      <td>Somewhat important</td>\n",
       "    </tr>\n",
       "    <tr>\n",
       "      <th>15012</th>\n",
       "      <td>Viet Nam</td>\n",
       "      <td>NaN</td>\n",
       "      <td>Man</td>\n",
       "      <td>Bachelor’s degree (B.A., B.S., B.Eng., etc.)</td>\n",
       "      <td>Computer science, computer engineering, or software engineering</td>\n",
       "      <td>Yes</td>\n",
       "      <td>13.0</td>\n",
       "      <td>5.0</td>\n",
       "      <td>2.0</td>\n",
       "      <td>JavaScript;Ruby</td>\n",
       "      <td>Go;Haskell;JavaScript;Ruby</td>\n",
       "      <td>Once a year</td>\n",
       "      <td>Call a coworker or friend;Visit Stack Overflow;Panic;Watch help / tutorial videos;Do other work and come back later;Visit another developer community (please name):</td>\n",
       "      <td>Employed full-time</td>\n",
       "      <td>Developer, back-end;Developer, front-end;Developer, full-stack;Developer, mobile</td>\n",
       "      <td>40.0</td>\n",
       "      <td>Slightly satisfied</td>\n",
       "      <td>Languages, frameworks, and other technologies I’d be working with;Office environment or company culture;Opportunities for professional development</td>\n",
       "      <td>Rarely: 1-2 days per year or less</td>\n",
       "      <td>Critically important</td>\n",
       "    </tr>\n",
       "    <tr>\n",
       "      <th>21687</th>\n",
       "      <td>Jordan</td>\n",
       "      <td>33.0</td>\n",
       "      <td>Man</td>\n",
       "      <td>Bachelor’s degree (B.A., B.S., B.Eng., etc.)</td>\n",
       "      <td>Computer science, computer engineering, or software engineering</td>\n",
       "      <td>No</td>\n",
       "      <td>15.0</td>\n",
       "      <td>15.0</td>\n",
       "      <td>11.0</td>\n",
       "      <td>Bash/Shell/PowerShell;HTML/CSS;Java;JavaScript;Python;SQL;TypeScript</td>\n",
       "      <td>C#;HTML/CSS;Java;JavaScript;SQL;TypeScript</td>\n",
       "      <td>Once a year</td>\n",
       "      <td>Play games;Visit Stack Overflow;Go for a walk or other physical activity;Panic;Do other work and come back later</td>\n",
       "      <td>Employed full-time</td>\n",
       "      <td>Developer, back-end;Developer, desktop or enterprise applications;Developer, front-end;Developer, full-stack;Developer, mobile</td>\n",
       "      <td>40.0</td>\n",
       "      <td>Slightly dissatisfied</td>\n",
       "      <td>Flex time or a flexible schedule;Financial performance or funding status of the company or organization;Office environment or company culture</td>\n",
       "      <td>Occasionally: 1-2 days per quarter but less than monthly</td>\n",
       "      <td>Very important</td>\n",
       "    </tr>\n",
       "    <tr>\n",
       "      <th>49813</th>\n",
       "      <td>Ireland</td>\n",
       "      <td>38.0</td>\n",
       "      <td>Man</td>\n",
       "      <td>Bachelor’s degree (B.A., B.S., B.Eng., etc.)</td>\n",
       "      <td>Computer science, computer engineering, or software engineering</td>\n",
       "      <td>Yes</td>\n",
       "      <td>12.0</td>\n",
       "      <td>26.0</td>\n",
       "      <td>14.0</td>\n",
       "      <td>Bash/Shell/PowerShell;C#;JavaScript;PHP;Python</td>\n",
       "      <td>C#;Python</td>\n",
       "      <td>Once a year</td>\n",
       "      <td>Call a coworker or friend;Visit Stack Overflow;Go for a walk or other physical activity;Watch help / tutorial videos;Visit another developer community (please name):</td>\n",
       "      <td>Employed full-time</td>\n",
       "      <td>NaN</td>\n",
       "      <td>NaN</td>\n",
       "      <td>NaN</td>\n",
       "      <td>NaN</td>\n",
       "      <td>NaN</td>\n",
       "      <td>Critically important</td>\n",
       "    </tr>\n",
       "    <tr>\n",
       "      <th>1921</th>\n",
       "      <td>India</td>\n",
       "      <td>NaN</td>\n",
       "      <td>Man</td>\n",
       "      <td>Primary/elementary school</td>\n",
       "      <td>NaN</td>\n",
       "      <td>Yes</td>\n",
       "      <td>15.0</td>\n",
       "      <td>2.0</td>\n",
       "      <td>NaN</td>\n",
       "      <td>HTML/CSS;Java;JavaScript;Kotlin</td>\n",
       "      <td>C;C#;C++;Dart;Go;Objective-C;Python;SQL;Swift</td>\n",
       "      <td>Every few months</td>\n",
       "      <td>Visit Stack Overflow</td>\n",
       "      <td>Not employed, but looking for work</td>\n",
       "      <td>Developer, back-end;Developer, game or graphics;Developer, mobile</td>\n",
       "      <td>NaN</td>\n",
       "      <td>NaN</td>\n",
       "      <td>Industry that I’d be working in;Languages, frameworks, and other technologies I’d be working with;How widely used or impactful my work output would be</td>\n",
       "      <td>NaN</td>\n",
       "      <td>NaN</td>\n",
       "    </tr>\n",
       "    <tr>\n",
       "      <th>49851</th>\n",
       "      <td>India</td>\n",
       "      <td>NaN</td>\n",
       "      <td>NaN</td>\n",
       "      <td>NaN</td>\n",
       "      <td>NaN</td>\n",
       "      <td>Yes</td>\n",
       "      <td>NaN</td>\n",
       "      <td>NaN</td>\n",
       "      <td>NaN</td>\n",
       "      <td>NaN</td>\n",
       "      <td>Java;JavaScript;Kotlin</td>\n",
       "      <td>Once a year</td>\n",
       "      <td>NaN</td>\n",
       "      <td>Employed full-time</td>\n",
       "      <td>NaN</td>\n",
       "      <td>NaN</td>\n",
       "      <td>NaN</td>\n",
       "      <td>NaN</td>\n",
       "      <td>NaN</td>\n",
       "      <td>NaN</td>\n",
       "    </tr>\n",
       "    <tr>\n",
       "      <th>27006</th>\n",
       "      <td>Sweden</td>\n",
       "      <td>33.0</td>\n",
       "      <td>Man</td>\n",
       "      <td>Bachelor’s degree (B.A., B.S., B.Eng., etc.)</td>\n",
       "      <td>Another engineering discipline (such as civil, electrical, mechanical, etc.)</td>\n",
       "      <td>Yes</td>\n",
       "      <td>7.0</td>\n",
       "      <td>6.0</td>\n",
       "      <td>2.0</td>\n",
       "      <td>Java;JavaScript;Kotlin</td>\n",
       "      <td>Kotlin;TypeScript</td>\n",
       "      <td>Once every few years</td>\n",
       "      <td>Call a coworker or friend;Visit Stack Overflow;Go for a walk or other physical activity;Watch help / tutorial videos;Do other work and come back later</td>\n",
       "      <td>Employed full-time</td>\n",
       "      <td>Developer, front-end;Developer, mobile</td>\n",
       "      <td>45.0</td>\n",
       "      <td>Very satisfied</td>\n",
       "      <td>Flex time or a flexible schedule;Remote work options;Opportunities for professional development</td>\n",
       "      <td>Sometimes: 1-2 days per month but less than weekly</td>\n",
       "      <td>Fairly important</td>\n",
       "    </tr>\n",
       "    <tr>\n",
       "      <th>22594</th>\n",
       "      <td>Austria</td>\n",
       "      <td>22.0</td>\n",
       "      <td>Man</td>\n",
       "      <td>Bachelor’s degree (B.A., B.S., B.Eng., etc.)</td>\n",
       "      <td>Mathematics or statistics</td>\n",
       "      <td>Yes</td>\n",
       "      <td>19.0</td>\n",
       "      <td>1.0</td>\n",
       "      <td>NaN</td>\n",
       "      <td>C++;R</td>\n",
       "      <td>C++;Python;R;SQL;VBA</td>\n",
       "      <td>Once every few years</td>\n",
       "      <td>Meditate;Call a coworker or friend;Visit Stack Overflow;Go for a walk or other physical activity;Watch help / tutorial videos;Do other work and come back later</td>\n",
       "      <td>Student</td>\n",
       "      <td>NaN</td>\n",
       "      <td>NaN</td>\n",
       "      <td>NaN</td>\n",
       "      <td>Languages, frameworks, and other technologies I’d be working with;Office environment or company culture;Opportunities for professional development</td>\n",
       "      <td>NaN</td>\n",
       "      <td>NaN</td>\n",
       "    </tr>\n",
       "    <tr>\n",
       "      <th>24340</th>\n",
       "      <td>Canada</td>\n",
       "      <td>26.0</td>\n",
       "      <td>Man</td>\n",
       "      <td>Bachelor’s degree (B.A., B.S., B.Eng., etc.)</td>\n",
       "      <td>Computer science, computer engineering, or software engineering</td>\n",
       "      <td>Yes</td>\n",
       "      <td>18.0</td>\n",
       "      <td>9.0</td>\n",
       "      <td>5.0</td>\n",
       "      <td>Bash/Shell/PowerShell;Go;HTML/CSS;JavaScript;PHP;Python;SQL;TypeScript</td>\n",
       "      <td>Bash/Shell/PowerShell;Dart;Go;PHP;Python;TypeScript</td>\n",
       "      <td>Every few months</td>\n",
       "      <td>Visit Stack Overflow;Go for a walk or other physical activity;Watch help / tutorial videos</td>\n",
       "      <td>Employed full-time</td>\n",
       "      <td>Developer, full-stack;Engineering manager</td>\n",
       "      <td>35.0</td>\n",
       "      <td>Very satisfied</td>\n",
       "      <td>Industry that I’d be working in;Languages, frameworks, and other technologies I’d be working with;Opportunities for professional development</td>\n",
       "      <td>Occasionally: 1-2 days per quarter but less than monthly</td>\n",
       "      <td>Somewhat important</td>\n",
       "    </tr>\n",
       "  </tbody>\n",
       "</table>\n",
       "</div>"
      ],
      "text/plain": [
       "                  Country   Age Gender  \\\n",
       "13530  Russian Federation  33.0    Man   \n",
       "42701              Israel  31.0  Woman   \n",
       "15012            Viet Nam   NaN    Man   \n",
       "21687              Jordan  33.0    Man   \n",
       "49813             Ireland  38.0    Man   \n",
       "1921                India   NaN    Man   \n",
       "49851               India   NaN    NaN   \n",
       "27006              Sweden  33.0    Man   \n",
       "22594             Austria  22.0    Man   \n",
       "24340              Canada  26.0    Man   \n",
       "\n",
       "                                               EdLevel  \\\n",
       "13530  Master’s degree (M.A., M.S., M.Eng., MBA, etc.)   \n",
       "42701                                              NaN   \n",
       "15012     Bachelor’s degree (B.A., B.S., B.Eng., etc.)   \n",
       "21687     Bachelor’s degree (B.A., B.S., B.Eng., etc.)   \n",
       "49813     Bachelor’s degree (B.A., B.S., B.Eng., etc.)   \n",
       "1921                         Primary/elementary school   \n",
       "49851                                              NaN   \n",
       "27006     Bachelor’s degree (B.A., B.S., B.Eng., etc.)   \n",
       "22594     Bachelor’s degree (B.A., B.S., B.Eng., etc.)   \n",
       "24340     Bachelor’s degree (B.A., B.S., B.Eng., etc.)   \n",
       "\n",
       "                                                                     UndergradMajor  \\\n",
       "13530               Computer science, computer engineering, or software engineering   \n",
       "42701          A business discipline (such as accounting, finance, marketing, etc.)   \n",
       "15012               Computer science, computer engineering, or software engineering   \n",
       "21687               Computer science, computer engineering, or software engineering   \n",
       "49813               Computer science, computer engineering, or software engineering   \n",
       "1921                                                                            NaN   \n",
       "49851                                                                           NaN   \n",
       "27006  Another engineering discipline (such as civil, electrical, mechanical, etc.)   \n",
       "22594                                                     Mathematics or statistics   \n",
       "24340               Computer science, computer engineering, or software engineering   \n",
       "\n",
       "      Hobbyist  Age1stCode  YearsCode  YearsCodePro  \\\n",
       "13530      Yes        11.0       22.0          15.0   \n",
       "42701       No        15.0        6.0           2.0   \n",
       "15012      Yes        13.0        5.0           2.0   \n",
       "21687       No        15.0       15.0          11.0   \n",
       "49813      Yes        12.0       26.0          14.0   \n",
       "1921       Yes        15.0        2.0           NaN   \n",
       "49851      Yes         NaN        NaN           NaN   \n",
       "27006      Yes         7.0        6.0           2.0   \n",
       "22594      Yes        19.0        1.0           NaN   \n",
       "24340      Yes        18.0        9.0           5.0   \n",
       "\n",
       "                                                           LanguageWorkedWith  \\\n",
       "13530                             Go;JavaScript;Objective-C;Python;Ruby;Swift   \n",
       "42701                                          Bash/Shell/PowerShell;C;Python   \n",
       "15012                                                         JavaScript;Ruby   \n",
       "21687    Bash/Shell/PowerShell;HTML/CSS;Java;JavaScript;Python;SQL;TypeScript   \n",
       "49813                          Bash/Shell/PowerShell;C#;JavaScript;PHP;Python   \n",
       "1921                                          HTML/CSS;Java;JavaScript;Kotlin   \n",
       "49851                                                                     NaN   \n",
       "27006                                                  Java;JavaScript;Kotlin   \n",
       "22594                                                                   C++;R   \n",
       "24340  Bash/Shell/PowerShell;Go;HTML/CSS;JavaScript;PHP;Python;SQL;TypeScript   \n",
       "\n",
       "                                    LanguageDesireNextYear  \\\n",
       "13530                             Go;JavaScript;Ruby;Swift   \n",
       "42701                                         C;C++;Python   \n",
       "15012                           Go;Haskell;JavaScript;Ruby   \n",
       "21687           C#;HTML/CSS;Java;JavaScript;SQL;TypeScript   \n",
       "49813                                            C#;Python   \n",
       "1921         C;C#;C++;Dart;Go;Objective-C;Python;SQL;Swift   \n",
       "49851                               Java;JavaScript;Kotlin   \n",
       "27006                                    Kotlin;TypeScript   \n",
       "22594                                 C++;Python;R;SQL;VBA   \n",
       "24340  Bash/Shell/PowerShell;Dart;Go;PHP;Python;TypeScript   \n",
       "\n",
       "                   NEWLearn  \\\n",
       "13530  Once every few years   \n",
       "42701           Once a year   \n",
       "15012           Once a year   \n",
       "21687           Once a year   \n",
       "49813           Once a year   \n",
       "1921       Every few months   \n",
       "49851           Once a year   \n",
       "27006  Once every few years   \n",
       "22594  Once every few years   \n",
       "24340      Every few months   \n",
       "\n",
       "                                                                                                                                                                    NEWStuck  \\\n",
       "13530                                                               Meditate;Visit Stack Overflow;Go for a walk or other physical activity;Do other work and come back later   \n",
       "42701           Call a coworker or friend;Visit Stack Overflow;Go for a walk or other physical activity;Panic;Watch help / tutorial videos;Do other work and come back later   \n",
       "15012   Call a coworker or friend;Visit Stack Overflow;Panic;Watch help / tutorial videos;Do other work and come back later;Visit another developer community (please name):   \n",
       "21687                                                       Play games;Visit Stack Overflow;Go for a walk or other physical activity;Panic;Do other work and come back later   \n",
       "49813  Call a coworker or friend;Visit Stack Overflow;Go for a walk or other physical activity;Watch help / tutorial videos;Visit another developer community (please name):   \n",
       "1921                                                                                                                                                    Visit Stack Overflow   \n",
       "49851                                                                                                                                                                    NaN   \n",
       "27006                 Call a coworker or friend;Visit Stack Overflow;Go for a walk or other physical activity;Watch help / tutorial videos;Do other work and come back later   \n",
       "22594        Meditate;Call a coworker or friend;Visit Stack Overflow;Go for a walk or other physical activity;Watch help / tutorial videos;Do other work and come back later   \n",
       "24340                                                                             Visit Stack Overflow;Go for a walk or other physical activity;Watch help / tutorial videos   \n",
       "\n",
       "                               Employment  \\\n",
       "13530                  Employed full-time   \n",
       "42701                  Employed full-time   \n",
       "15012                  Employed full-time   \n",
       "21687                  Employed full-time   \n",
       "49813                  Employed full-time   \n",
       "1921   Not employed, but looking for work   \n",
       "49851                  Employed full-time   \n",
       "27006                  Employed full-time   \n",
       "22594                             Student   \n",
       "24340                  Employed full-time   \n",
       "\n",
       "                                                                                                                              DevType  \\\n",
       "13530                                                 Developer, back-end;Developer, full-stack;DevOps specialist;Senior executive/VP   \n",
       "42701                                                                                     Developer, embedded applications or devices   \n",
       "15012                                                Developer, back-end;Developer, front-end;Developer, full-stack;Developer, mobile   \n",
       "21687  Developer, back-end;Developer, desktop or enterprise applications;Developer, front-end;Developer, full-stack;Developer, mobile   \n",
       "49813                                                                                                                             NaN   \n",
       "1921                                                                Developer, back-end;Developer, game or graphics;Developer, mobile   \n",
       "49851                                                                                                                             NaN   \n",
       "27006                                                                                          Developer, front-end;Developer, mobile   \n",
       "22594                                                                                                                             NaN   \n",
       "24340                                                                                       Developer, full-stack;Engineering manager   \n",
       "\n",
       "       WorkWeekHrs                 JobSat  \\\n",
       "13530         50.0     Slightly satisfied   \n",
       "42701         48.0         Very satisfied   \n",
       "15012         40.0     Slightly satisfied   \n",
       "21687         40.0  Slightly dissatisfied   \n",
       "49813          NaN                    NaN   \n",
       "1921           NaN                    NaN   \n",
       "49851          NaN                    NaN   \n",
       "27006         45.0         Very satisfied   \n",
       "22594          NaN                    NaN   \n",
       "24340         35.0         Very satisfied   \n",
       "\n",
       "                                                                                                                                                         JobFactors  \\\n",
       "13530  Languages, frameworks, and other technologies I’d be working with;How widely used or impactful my work output would be;Office environment or company culture   \n",
       "42701                      Diversity of the company or organization;How widely used or impactful my work output would be;Opportunities for professional development   \n",
       "15012            Languages, frameworks, and other technologies I’d be working with;Office environment or company culture;Opportunities for professional development   \n",
       "21687                 Flex time or a flexible schedule;Financial performance or funding status of the company or organization;Office environment or company culture   \n",
       "49813                                                                                                                                                           NaN   \n",
       "1921         Industry that I’d be working in;Languages, frameworks, and other technologies I’d be working with;How widely used or impactful my work output would be   \n",
       "49851                                                                                                                                                           NaN   \n",
       "27006                                                               Flex time or a flexible schedule;Remote work options;Opportunities for professional development   \n",
       "22594            Languages, frameworks, and other technologies I’d be working with;Office environment or company culture;Opportunities for professional development   \n",
       "24340                  Industry that I’d be working in;Languages, frameworks, and other technologies I’d be working with;Opportunities for professional development   \n",
       "\n",
       "                                                    NEWOvertime  \\\n",
       "13530                          Often: 1-2 days per week or more   \n",
       "42701                          Often: 1-2 days per week or more   \n",
       "15012                         Rarely: 1-2 days per year or less   \n",
       "21687  Occasionally: 1-2 days per quarter but less than monthly   \n",
       "49813                                                       NaN   \n",
       "1921                                                        NaN   \n",
       "49851                                                       NaN   \n",
       "27006        Sometimes: 1-2 days per month but less than weekly   \n",
       "22594                                                       NaN   \n",
       "24340  Occasionally: 1-2 days per quarter but less than monthly   \n",
       "\n",
       "                  NEWEdImpt  \n",
       "13530        Very important  \n",
       "42701    Somewhat important  \n",
       "15012  Critically important  \n",
       "21687        Very important  \n",
       "49813  Critically important  \n",
       "1921                    NaN  \n",
       "49851                   NaN  \n",
       "27006      Fairly important  \n",
       "22594                   NaN  \n",
       "24340    Somewhat important  "
      ]
     },
     "execution_count": 25,
     "metadata": {},
     "output_type": "execute_result"
    }
   ],
   "source": [
    "data.sample(10)"
   ]
  },
  {
   "cell_type": "markdown",
   "metadata": {},
   "source": [
    "## Krok 3: Analiza i wizualizacja danych"
   ]
  },
  {
   "cell_type": "markdown",
   "metadata": {},
   "source": [
    "Zanim zadamy pytania dotyczące odpowiedzi na ankietę, pomocne byłoby zrozumienie danych demograficznych respondentów, tj. Kraju, wieku, płci, poziomu wykształcenia, poziomu zatrudnienia itp. Konieczne jest zbadanie tych zmiennych, aby zrozumieć, jak reprezentatywna jest ankieta dla światowa społeczność programistów. Badanie tej skali zwykle ma pewne tendencje w wyborze."
   ]
  },
  {
   "cell_type": "markdown",
   "metadata": {},
   "source": [
    "#### Atrybut \"Country\""
   ]
  },
  {
   "cell_type": "markdown",
   "metadata": {},
   "source": [
    "Przyjrzyjmy się liczbie krajów, z których pochodzą odpowiedzi w ankiecie, i wykreślmy dziesięć krajów z największą liczbą odpowiedzi."
   ]
  },
  {
   "cell_type": "code",
   "execution_count": 31,
   "metadata": {},
   "outputs": [
    {
     "data": {
      "text/plain": [
       "'Where do you live?'"
      ]
     },
     "execution_count": 31,
     "metadata": {},
     "output_type": "execute_result"
    }
   ],
   "source": [
    "schema['Country']"
   ]
  },
  {
   "cell_type": "code",
   "execution_count": 33,
   "metadata": {},
   "outputs": [
    {
     "data": {
      "text/plain": [
       "183"
      ]
     },
     "execution_count": 33,
     "metadata": {},
     "output_type": "execute_result"
    }
   ],
   "source": [
    "data['Country'].nunique()"
   ]
  },
  {
   "cell_type": "markdown",
   "metadata": {},
   "source": [
    "Kraje o największej liczbie respondentów możemy zidentyfikować metodą value_counts."
   ]
  },
  {
   "cell_type": "code",
   "execution_count": 35,
   "metadata": {},
   "outputs": [
    {
     "data": {
      "text/plain": [
       "United States     12371\n",
       "India              8364\n",
       "United Kingdom     3881\n",
       "Germany            3864\n",
       "Canada             2175\n",
       "France             1884\n",
       "Brazil             1804\n",
       "Netherlands        1332\n",
       "Poland             1259\n",
       "Australia          1199\n",
       "Name: Country, dtype: int64"
      ]
     },
     "execution_count": 35,
     "metadata": {},
     "output_type": "execute_result"
    }
   ],
   "source": [
    "top_countries = data['Country'].value_counts().head(10)\n",
    "top_countries"
   ]
  },
  {
   "cell_type": "code",
   "execution_count": 36,
   "metadata": {},
   "outputs": [
    {
     "data": {
      "image/png": "[encoded data removed]",
      "text/plain": [
       "<Figure size 864x432 with 1 Axes>"
      ]
     },
     "metadata": {
      "needs_background": "light"
     },
     "output_type": "display_data"
    }
   ],
   "source": [
    "plt.figure(figsize=(12,6))\n",
    "plt.xticks(rotation=75)\n",
    "plt.title(schema.Country)\n",
    "sns.barplot(x=top_countries.index, y=top_countries);"
   ]
  },
  {
   "cell_type": "markdown",
   "metadata": {},
   "source": [
    "Wydaje się, że nieproporcjonalnie duża liczba respondentów pochodzi z USA i Indii, prawdopodobnie dlatego, że ankieta jest prowadzona w języku angielskim, a kraje te mają największą populację anglojęzyczną. Już teraz widzimy, że ankieta może nie być reprezentatywna dla globalnej społeczności programistów - zwłaszcza z krajów nieanglojęzycznych. Programiści z krajów nieanglojęzycznych są prawie na pewno niedostatecznie reprezentowani."
   ]
  },
  {
   "cell_type": "markdown",
   "metadata": {},
   "source": [
    "#### Atrybut \"Age\"\n",
    "Rozkład wieku respondentów jest kolejnym ważnym czynnikiem, na który należy zwrócić uwagę. Do wizualizacji możemy użyć histogramu."
   ]
  },
  {
   "cell_type": "code",
   "execution_count": 39,
   "metadata": {},
   "outputs": [
    {
     "data": {
      "image/png": "[encoded data removed]",
      "text/plain": [
       "<Figure size 864x432 with 1 Axes>"
      ]
     },
     "metadata": {
      "needs_background": "light"
     },
     "output_type": "display_data"
    }
   ],
   "source": [
    "plt.figure(figsize=(12, 6))\n",
    "plt.title(schema['Age'])\n",
    "plt.xlabel('Wiek')\n",
    "plt.ylabel('Liczba respondentów')\n",
    "\n",
    "plt.hist(data['Age'], bins=np.arange(10,80,5), color='purple');"
   ]
  },
  {
   "cell_type": "markdown",
   "metadata": {},
   "source": [
    "Wydaje się, że duży odsetek respondentów ma 20-45 lat. Jest to w pewnym stopniu reprezentatywne dla społeczności programistów w ogóle. Wielu młodych ludzi podjęło się informatyki jako kierunku studiów lub zawodu w ciągu ostatnich 20 lat.\n",
    "\n",
    "Ćwiczenie: możesz odfiltrować odpowiedzi według wieku (lub grupy wiekowej), jeśli chcesz przeanalizować i porównać wyniki ankiety dla różnych grup wiekowych. Utwórz nową kolumnę o nazwie AgeGroup zawierającą wartości, takie jak Mniej niż 10 lat, 10-18 lat, 18-30 lat, 30-45 lat, 45-60 lat i Starsze niż 60 lat. Następnie powtórz analizę w pozostałej części tego notatnika dla każdej grupy wiekowej."
   ]
  },
  {
   "cell_type": "markdown",
   "metadata": {},
   "source": [
    "#### Atrybut \"Gender\"\n",
    "Przyjrzyjmy się rozkładowi odpowiedzi dla płci. Powszechnie wiadomo, że kobiety i płcie niebinarne są niedostatecznie reprezentowane w społeczności programistów, więc możemy spodziewać się tutaj wypaczonej dystrybucji."
   ]
  },
  {
   "cell_type": "code",
   "execution_count": 40,
   "metadata": {},
   "outputs": [
    {
     "data": {
      "text/plain": [
       "'Which of the following describe you, if any? Please check all that apply. If you prefer not to answer, you may leave this question blank.'"
      ]
     },
     "execution_count": 40,
     "metadata": {},
     "output_type": "execute_result"
    }
   ],
   "source": [
    "schema['Gender']"
   ]
  },
  {
   "cell_type": "code",
   "execution_count": 41,
   "metadata": {},
   "outputs": [
    {
     "data": {
      "text/plain": [
       "Man                                                  45895\n",
       "Woman                                                 3835\n",
       "Non-binary, genderqueer, or gender non-conforming      385\n",
       "Name: Gender, dtype: int64"
      ]
     },
     "execution_count": 41,
     "metadata": {},
     "output_type": "execute_result"
    }
   ],
   "source": [
    "gender_counts = data['Gender'].value_counts()\n",
    "gender_counts"
   ]
  },
  {
   "cell_type": "code",
   "execution_count": 42,
   "metadata": {},
   "outputs": [
    {
     "data": {
      "image/png": "[encoded data removed]",
      "text/plain": [
       "<Figure size 864x432 with 1 Axes>"
      ]
     },
     "metadata": {},
     "output_type": "display_data"
    }
   ],
   "source": [
    "plt.figure(figsize=(12,6))\n",
    "plt.title(schema.Gender)\n",
    "plt.pie(gender_counts, labels=gender_counts.index, autopct='%1.1f%%', startangle=180);"
   ]
  },
  {
   "cell_type": "markdown",
   "metadata": {},
   "source": [
    "Tylko około 8% respondentów, którzy odpowiedzieli na pytanie, identyfikuje się jako kobiety lub osoby niebinarne. Liczba ta jest niższa niż ogólny odsetek kobiet i niebinarnych płci w społeczności programistów - szacowany na około 12%.\n",
    "\n",
    "Ćwiczenie: Byłoby interesujące porównać odpowiedzi i preferencje ankietowe dla różnych płci. Powtórz tę analizę z tymi awariami. W jaki sposób względne poziomy wykształcenia różnią się w zależności od płci? Jak różnią się wynagrodzenia? Może się przydać ta analiza dotycząca podziału płci w nauce o danych."
   ]
  },
  {
   "cell_type": "markdown",
   "metadata": {},
   "source": [
    "#### Atrybutu \"Education LeveL\"\n",
    "Formalne wykształcenie informatyczne jest często uważane za niezbędny warunek zostania programistą. Istnieje jednak wiele bezpłatnych zasobów i samouczków dostępnych online, aby nauczyć się programowania. Porównajmy poziom wykształcenia respondentów, aby uzyskać wgląd w to. Użyjemy tutaj poziomego wykresu słupkowego."
   ]
  },
  {
   "cell_type": "code",
   "execution_count": 44,
   "metadata": {},
   "outputs": [
    {
     "data": {
      "image/png": "[encoded data removed]",
      "text/plain": [
       "<Figure size 648x360 with 1 Axes>"
      ]
     },
     "metadata": {
      "needs_background": "light"
     },
     "output_type": "display_data"
    }
   ],
   "source": [
    "sns.countplot(y=data['EdLevel'])\n",
    "plt.xticks(rotation=75);\n",
    "plt.title(schema['EdLevel'])\n",
    "plt.ylabel(None);"
   ]
  },
  {
   "cell_type": "markdown",
   "metadata": {},
   "source": [
    "Wydaje się, że ponad połowa respondentów posiada tytuł licencjata lub magistra, więc większość programistów wydaje się mieć wykształcenie wyższe. Jednak z samego tego wykresu nie wynika jasno, czy posiadają dyplom z informatyki.\n",
    "\n",
    "Ćwiczenia: Wykres pokazuje obecnie liczbę respondentów dla każdej opcji. Czy możesz go zmodyfikować, aby zamiast tego pokazywał procent? Następnie spróbuj porównać wartości procentowe dla każdego stopnia dla mężczyzn i kobiet.\n",
    "\n",
    "Narysujmy również kierunki studiów licencjackich, ale tym razem przekonwertujemy liczby na procenty i posortujemy wartości, aby ułatwić wizualizację kolejności."
   ]
  },
  {
   "cell_type": "code",
   "execution_count": 45,
   "metadata": {},
   "outputs": [
    {
     "data": {
      "text/plain": [
       "'What was your primary field of study?'"
      ]
     },
     "execution_count": 45,
     "metadata": {},
     "output_type": "execute_result"
    }
   ],
   "source": [
    "schema.UndergradMajor"
   ]
  },
  {
   "cell_type": "code",
   "execution_count": 48,
   "metadata": {},
   "outputs": [
    {
     "data": {
      "image/png": "[encoded data removed]",
      "text/plain": [
       "<Figure size 648x360 with 1 Axes>"
      ]
     },
     "metadata": {
      "needs_background": "light"
     },
     "output_type": "display_data"
    }
   ],
   "source": [
    "undergrad_pct = data['UndergradMajor'].value_counts() * 100 / data['UndergradMajor'].count()\n",
    "\n",
    "sns.barplot(x=undergrad_pct, y=undergrad_pct.index)\n",
    "\n",
    "plt.title(schema['UndergradMajor'])\n",
    "plt.ylabel(None);\n",
    "plt.xlabel('Procent');"
   ]
  },
  {
   "cell_type": "markdown",
   "metadata": {},
   "source": [
    "Okazuje się, że 40% programistów z wyższym wykształceniem ma kierunek inny niż informatyka - co jest bardzo zachęcające. Wydaje się to sugerować, że chociaż wykształcenie wyższe jest ogólnie pomocne, nie musisz studiować informatyki, aby odnieść sukces jako programista.\n",
    "\n",
    "Ćwiczenia: Przeanalizuj kolumnę NEWEdImpt dla respondentów z wyższym wykształceniem w porównaniu z tymi, którzy ich nie mają. Czy dostrzegasz jakąś różnicę w opinii?"
   ]
  },
  {
   "cell_type": "markdown",
   "metadata": {},
   "source": [
    "#### Atrybutu \"Employment\"\n",
    "Praca na zlecenie lub praca na zlecenie to częsty wybór wśród programistów, więc byłoby interesujące porównać podział na pracę w pełnym wymiarze godzin, w niepełnym wymiarze godzin i pracę na własny rachunek. Zwizualizujmy dane z kolumny Zatrudnienie."
   ]
  },
  {
   "cell_type": "code",
   "execution_count": 49,
   "metadata": {},
   "outputs": [
    {
     "data": {
      "text/plain": [
       "'Which of the following best describes your current employment status?'"
      ]
     },
     "execution_count": 49,
     "metadata": {},
     "output_type": "execute_result"
    }
   ],
   "source": [
    "schema['Employment']"
   ]
  },
  {
   "cell_type": "code",
   "execution_count": 50,
   "metadata": {},
   "outputs": [
    {
     "data": {
      "image/png": "[encoded data removed]",
      "text/plain": [
       "<Figure size 648x360 with 1 Axes>"
      ]
     },
     "metadata": {
      "needs_background": "light"
     },
     "output_type": "display_data"
    }
   ],
   "source": [
    "(data['Employment'].value_counts(normalize=True, ascending=True)*100).plot(kind='barh', color='g')\n",
    "plt.title(schema['Employment'])\n",
    "plt.xlabel('Procent');"
   ]
  },
  {
   "cell_type": "code",
   "execution_count": null,
   "metadata": {},
   "outputs": [],
   "source": []
  },
  {
   "cell_type": "code",
   "execution_count": null,
   "metadata": {},
   "outputs": [],
   "source": []
  },
  {
   "cell_type": "code",
   "execution_count": null,
   "metadata": {},
   "outputs": [],
   "source": []
  },
  {
   "cell_type": "code",
   "execution_count": null,
   "metadata": {},
   "outputs": [],
   "source": []
  },
  {
   "cell_type": "markdown",
   "metadata": {},
   "source": [
    "#### Sprawdzamy ile atrybutów ma wartości puste"
   ]
  },
  {
   "cell_type": "code",
   "execution_count": 26,
   "metadata": {},
   "outputs": [
    {
     "data": {
      "text/html": [
       "<div>\n",
       "<style scoped>\n",
       "    .dataframe tbody tr th:only-of-type {\n",
       "        vertical-align: middle;\n",
       "    }\n",
       "\n",
       "    .dataframe tbody tr th {\n",
       "        vertical-align: top;\n",
       "    }\n",
       "\n",
       "    .dataframe thead th {\n",
       "        text-align: right;\n",
       "    }\n",
       "</style>\n",
       "<table border=\"1\" class=\"dataframe\">\n",
       "  <thead>\n",
       "    <tr style=\"text-align: right;\">\n",
       "      <th></th>\n",
       "      <th>Total</th>\n",
       "      <th>%</th>\n",
       "    </tr>\n",
       "  </thead>\n",
       "  <tbody>\n",
       "    <tr>\n",
       "      <th>WorkWeekHrs</th>\n",
       "      <td>23493</td>\n",
       "      <td>36.5</td>\n",
       "    </tr>\n",
       "    <tr>\n",
       "      <th>NEWOvertime</th>\n",
       "      <td>21430</td>\n",
       "      <td>33.3</td>\n",
       "    </tr>\n",
       "    <tr>\n",
       "      <th>YearsCodePro</th>\n",
       "      <td>20512</td>\n",
       "      <td>31.9</td>\n",
       "    </tr>\n",
       "    <tr>\n",
       "      <th>JobSat</th>\n",
       "      <td>19471</td>\n",
       "      <td>30.3</td>\n",
       "    </tr>\n",
       "    <tr>\n",
       "      <th>Age</th>\n",
       "      <td>19238</td>\n",
       "      <td>29.9</td>\n",
       "    </tr>\n",
       "    <tr>\n",
       "      <th>NEWEdImpt</th>\n",
       "      <td>16214</td>\n",
       "      <td>25.2</td>\n",
       "    </tr>\n",
       "    <tr>\n",
       "      <th>JobFactors</th>\n",
       "      <td>15365</td>\n",
       "      <td>23.9</td>\n",
       "    </tr>\n",
       "    <tr>\n",
       "      <th>DevType</th>\n",
       "      <td>15323</td>\n",
       "      <td>23.8</td>\n",
       "    </tr>\n",
       "    <tr>\n",
       "      <th>Gender</th>\n",
       "      <td>14191</td>\n",
       "      <td>22.1</td>\n",
       "    </tr>\n",
       "    <tr>\n",
       "      <th>UndergradMajor</th>\n",
       "      <td>13687</td>\n",
       "      <td>21.3</td>\n",
       "    </tr>\n",
       "    <tr>\n",
       "      <th>LanguageDesireNextYear</th>\n",
       "      <td>10618</td>\n",
       "      <td>16.5</td>\n",
       "    </tr>\n",
       "    <tr>\n",
       "      <th>NEWStuck</th>\n",
       "      <td>9769</td>\n",
       "      <td>15.2</td>\n",
       "    </tr>\n",
       "    <tr>\n",
       "      <th>NEWLearn</th>\n",
       "      <td>8576</td>\n",
       "      <td>13.3</td>\n",
       "    </tr>\n",
       "    <tr>\n",
       "      <th>YearsCode</th>\n",
       "      <td>7967</td>\n",
       "      <td>12.4</td>\n",
       "    </tr>\n",
       "    <tr>\n",
       "      <th>LanguageWorkedWith</th>\n",
       "      <td>7374</td>\n",
       "      <td>11.5</td>\n",
       "    </tr>\n",
       "    <tr>\n",
       "      <th>EdLevel</th>\n",
       "      <td>7325</td>\n",
       "      <td>11.4</td>\n",
       "    </tr>\n",
       "    <tr>\n",
       "      <th>Age1stCode</th>\n",
       "      <td>7279</td>\n",
       "      <td>11.3</td>\n",
       "    </tr>\n",
       "    <tr>\n",
       "      <th>Employment</th>\n",
       "      <td>912</td>\n",
       "      <td>1.4</td>\n",
       "    </tr>\n",
       "    <tr>\n",
       "      <th>Country</th>\n",
       "      <td>700</td>\n",
       "      <td>1.1</td>\n",
       "    </tr>\n",
       "    <tr>\n",
       "      <th>Hobbyist</th>\n",
       "      <td>356</td>\n",
       "      <td>0.6</td>\n",
       "    </tr>\n",
       "  </tbody>\n",
       "</table>\n",
       "</div>"
      ],
      "text/plain": [
       "                        Total     %\n",
       "WorkWeekHrs             23493  36.5\n",
       "NEWOvertime             21430  33.3\n",
       "YearsCodePro            20512  31.9\n",
       "JobSat                  19471  30.3\n",
       "Age                     19238  29.9\n",
       "NEWEdImpt               16214  25.2\n",
       "JobFactors              15365  23.9\n",
       "DevType                 15323  23.8\n",
       "Gender                  14191  22.1\n",
       "UndergradMajor          13687  21.3\n",
       "LanguageDesireNextYear  10618  16.5\n",
       "NEWStuck                 9769  15.2\n",
       "NEWLearn                 8576  13.3\n",
       "YearsCode                7967  12.4\n",
       "LanguageWorkedWith       7374  11.5\n",
       "EdLevel                  7325  11.4\n",
       "Age1stCode               7279  11.3\n",
       "Employment                912   1.4\n",
       "Country                   700   1.1\n",
       "Hobbyist                  356   0.6"
      ]
     },
     "execution_count": 26,
     "metadata": {},
     "output_type": "execute_result"
    }
   ],
   "source": [
    "total = data.isnull().sum().sort_values(ascending=False)\n",
    "percent_1 = data.isnull().sum()/data.isnull().count()*100\n",
    "percent_2 = (round(percent_1, 1)).sort_values(ascending=False)\n",
    "missing_data = pd.concat([total, percent_2], axis=1, keys=['Total', '%'])\n",
    "missing_data"
   ]
  },
  {
   "cell_type": "markdown",
   "metadata": {},
   "source": [
    "#### Heatmapa brakujących wartości"
   ]
  },
  {
   "cell_type": "code",
   "execution_count": 27,
   "metadata": {},
   "outputs": [
    {
     "data": {
      "text/plain": [
       "<AxesSubplot:>"
      ]
     },
     "execution_count": 27,
     "metadata": {},
     "output_type": "execute_result"
    },
    {
     "data": {
      "image/png": "[encoded data removed]",
      "text/plain": [
       "<Figure size 648x360 with 1 Axes>"
      ]
     },
     "metadata": {
      "needs_background": "light"
     },
     "output_type": "display_data"
    }
   ],
   "source": [
    "sns.heatmap(data.isnull(),yticklabels=False,cbar=False,cmap='viridis')"
   ]
  },
  {
   "cell_type": "markdown",
   "metadata": {},
   "source": [
    "Jak widać najwięcej pustych wartości zawierają kolumny \"Age\" oraz \"Cabin\". Ilość brakujących wartości atrybutu \"Age\" to około 20%, w dalszej części spróbujemy uzupełnić brakujące wartości. Natomiast braki atrybutu \"Cabin\" są na tyle duże, że nie jesteśmy w stanie przewidzieć wartości brakujących atrybutów."
   ]
  },
  {
   "cell_type": "markdown",
   "metadata": {},
   "source": [
    "#### Uzupełnimy brakujące wartośći atrybutu \"Age\""
   ]
  },
  {
   "cell_type": "markdown",
   "metadata": {},
   "source": [
    "Przyjrzymy się rozkładowi atrybutu \"Age\" ze względu na klasę poróży pasażerów, jak widać jedna z wartości przyjmuje wartość ponad 4000. Jest to dana odstająca, którą należy usunąć przed dalszą analizą."
   ]
  },
  {
   "cell_type": "code",
   "execution_count": 28,
   "metadata": {},
   "outputs": [
    {
     "ename": "ValueError",
     "evalue": "Could not interpret input 'Pclass'",
     "output_type": "error",
     "traceback": [
      "\u001b[0;31m---------------------------------------------------------------------------\u001b[0m",
      "\u001b[0;31mValueError\u001b[0m                                Traceback (most recent call last)",
      "\u001b[0;32m<ipython-input-28-8ce6e9230eb0>\u001b[0m in \u001b[0;36m<module>\u001b[0;34m\u001b[0m\n\u001b[1;32m      1\u001b[0m \u001b[0mplt\u001b[0m\u001b[0;34m.\u001b[0m\u001b[0mfigure\u001b[0m\u001b[0;34m(\u001b[0m\u001b[0mfigsize\u001b[0m\u001b[0;34m=\u001b[0m\u001b[0;34m(\u001b[0m\u001b[0;36m12\u001b[0m\u001b[0;34m,\u001b[0m\u001b[0;36m7\u001b[0m\u001b[0;34m)\u001b[0m\u001b[0;34m)\u001b[0m\u001b[0;34m\u001b[0m\u001b[0;34m\u001b[0m\u001b[0m\n\u001b[0;32m----> 2\u001b[0;31m \u001b[0msns\u001b[0m\u001b[0;34m.\u001b[0m\u001b[0mboxplot\u001b[0m\u001b[0;34m(\u001b[0m\u001b[0mx\u001b[0m\u001b[0;34m=\u001b[0m\u001b[0;34m'Pclass'\u001b[0m\u001b[0;34m,\u001b[0m \u001b[0my\u001b[0m\u001b[0;34m=\u001b[0m\u001b[0;34m'Age'\u001b[0m\u001b[0;34m,\u001b[0m \u001b[0mdata\u001b[0m\u001b[0;34m=\u001b[0m\u001b[0mdata\u001b[0m\u001b[0;34m,\u001b[0m \u001b[0mpalette\u001b[0m\u001b[0;34m=\u001b[0m\u001b[0;34m'winter'\u001b[0m\u001b[0;34m)\u001b[0m\u001b[0;34m\u001b[0m\u001b[0;34m\u001b[0m\u001b[0m\n\u001b[0m",
      "\u001b[0;32m~/opt/anaconda3/lib/python3.8/site-packages/seaborn/_decorators.py\u001b[0m in \u001b[0;36minner_f\u001b[0;34m(*args, **kwargs)\u001b[0m\n\u001b[1;32m     44\u001b[0m             )\n\u001b[1;32m     45\u001b[0m         \u001b[0mkwargs\u001b[0m\u001b[0;34m.\u001b[0m\u001b[0mupdate\u001b[0m\u001b[0;34m(\u001b[0m\u001b[0;34m{\u001b[0m\u001b[0mk\u001b[0m\u001b[0;34m:\u001b[0m \u001b[0marg\u001b[0m \u001b[0;32mfor\u001b[0m \u001b[0mk\u001b[0m\u001b[0;34m,\u001b[0m \u001b[0marg\u001b[0m \u001b[0;32min\u001b[0m \u001b[0mzip\u001b[0m\u001b[0;34m(\u001b[0m\u001b[0msig\u001b[0m\u001b[0;34m.\u001b[0m\u001b[0mparameters\u001b[0m\u001b[0;34m,\u001b[0m \u001b[0margs\u001b[0m\u001b[0;34m)\u001b[0m\u001b[0;34m}\u001b[0m\u001b[0;34m)\u001b[0m\u001b[0;34m\u001b[0m\u001b[0;34m\u001b[0m\u001b[0m\n\u001b[0;32m---> 46\u001b[0;31m         \u001b[0;32mreturn\u001b[0m \u001b[0mf\u001b[0m\u001b[0;34m(\u001b[0m\u001b[0;34m**\u001b[0m\u001b[0mkwargs\u001b[0m\u001b[0;34m)\u001b[0m\u001b[0;34m\u001b[0m\u001b[0;34m\u001b[0m\u001b[0m\n\u001b[0m\u001b[1;32m     47\u001b[0m     \u001b[0;32mreturn\u001b[0m \u001b[0minner_f\u001b[0m\u001b[0;34m\u001b[0m\u001b[0;34m\u001b[0m\u001b[0m\n\u001b[1;32m     48\u001b[0m \u001b[0;34m\u001b[0m\u001b[0m\n",
      "\u001b[0;32m~/opt/anaconda3/lib/python3.8/site-packages/seaborn/categorical.py\u001b[0m in \u001b[0;36mboxplot\u001b[0;34m(x, y, hue, data, order, hue_order, orient, color, palette, saturation, width, dodge, fliersize, linewidth, whis, ax, **kwargs)\u001b[0m\n\u001b[1;32m   2228\u001b[0m ):\n\u001b[1;32m   2229\u001b[0m \u001b[0;34m\u001b[0m\u001b[0m\n\u001b[0;32m-> 2230\u001b[0;31m     plotter = _BoxPlotter(x, y, hue, data, order, hue_order,\n\u001b[0m\u001b[1;32m   2231\u001b[0m                           \u001b[0morient\u001b[0m\u001b[0;34m,\u001b[0m \u001b[0mcolor\u001b[0m\u001b[0;34m,\u001b[0m \u001b[0mpalette\u001b[0m\u001b[0;34m,\u001b[0m \u001b[0msaturation\u001b[0m\u001b[0;34m,\u001b[0m\u001b[0;34m\u001b[0m\u001b[0;34m\u001b[0m\u001b[0m\n\u001b[1;32m   2232\u001b[0m                           width, dodge, fliersize, linewidth)\n",
      "\u001b[0;32m~/opt/anaconda3/lib/python3.8/site-packages/seaborn/categorical.py\u001b[0m in \u001b[0;36m__init__\u001b[0;34m(self, x, y, hue, data, order, hue_order, orient, color, palette, saturation, width, dodge, fliersize, linewidth)\u001b[0m\n\u001b[1;32m    404\u001b[0m                  width, dodge, fliersize, linewidth):\n\u001b[1;32m    405\u001b[0m \u001b[0;34m\u001b[0m\u001b[0m\n\u001b[0;32m--> 406\u001b[0;31m         \u001b[0mself\u001b[0m\u001b[0;34m.\u001b[0m\u001b[0mestablish_variables\u001b[0m\u001b[0;34m(\u001b[0m\u001b[0mx\u001b[0m\u001b[0;34m,\u001b[0m \u001b[0my\u001b[0m\u001b[0;34m,\u001b[0m \u001b[0mhue\u001b[0m\u001b[0;34m,\u001b[0m \u001b[0mdata\u001b[0m\u001b[0;34m,\u001b[0m \u001b[0morient\u001b[0m\u001b[0;34m,\u001b[0m \u001b[0morder\u001b[0m\u001b[0;34m,\u001b[0m \u001b[0mhue_order\u001b[0m\u001b[0;34m)\u001b[0m\u001b[0;34m\u001b[0m\u001b[0;34m\u001b[0m\u001b[0m\n\u001b[0m\u001b[1;32m    407\u001b[0m         \u001b[0mself\u001b[0m\u001b[0;34m.\u001b[0m\u001b[0mestablish_colors\u001b[0m\u001b[0;34m(\u001b[0m\u001b[0mcolor\u001b[0m\u001b[0;34m,\u001b[0m \u001b[0mpalette\u001b[0m\u001b[0;34m,\u001b[0m \u001b[0msaturation\u001b[0m\u001b[0;34m)\u001b[0m\u001b[0;34m\u001b[0m\u001b[0;34m\u001b[0m\u001b[0m\n\u001b[1;32m    408\u001b[0m \u001b[0;34m\u001b[0m\u001b[0m\n",
      "\u001b[0;32m~/opt/anaconda3/lib/python3.8/site-packages/seaborn/categorical.py\u001b[0m in \u001b[0;36mestablish_variables\u001b[0;34m(self, x, y, hue, data, orient, order, hue_order, units)\u001b[0m\n\u001b[1;32m    151\u001b[0m                 \u001b[0;32mif\u001b[0m \u001b[0misinstance\u001b[0m\u001b[0;34m(\u001b[0m\u001b[0mvar\u001b[0m\u001b[0;34m,\u001b[0m \u001b[0mstr\u001b[0m\u001b[0;34m)\u001b[0m\u001b[0;34m:\u001b[0m\u001b[0;34m\u001b[0m\u001b[0;34m\u001b[0m\u001b[0m\n\u001b[1;32m    152\u001b[0m                     \u001b[0merr\u001b[0m \u001b[0;34m=\u001b[0m \u001b[0;34m\"Could not interpret input '{}'\"\u001b[0m\u001b[0;34m.\u001b[0m\u001b[0mformat\u001b[0m\u001b[0;34m(\u001b[0m\u001b[0mvar\u001b[0m\u001b[0;34m)\u001b[0m\u001b[0;34m\u001b[0m\u001b[0;34m\u001b[0m\u001b[0m\n\u001b[0;32m--> 153\u001b[0;31m                     \u001b[0;32mraise\u001b[0m \u001b[0mValueError\u001b[0m\u001b[0;34m(\u001b[0m\u001b[0merr\u001b[0m\u001b[0;34m)\u001b[0m\u001b[0;34m\u001b[0m\u001b[0;34m\u001b[0m\u001b[0m\n\u001b[0m\u001b[1;32m    154\u001b[0m \u001b[0;34m\u001b[0m\u001b[0m\n\u001b[1;32m    155\u001b[0m             \u001b[0;31m# Figure out the plotting orientation\u001b[0m\u001b[0;34m\u001b[0m\u001b[0;34m\u001b[0m\u001b[0;34m\u001b[0m\u001b[0m\n",
      "\u001b[0;31mValueError\u001b[0m: Could not interpret input 'Pclass'"
     ]
    },
    {
     "data": {
      "text/plain": [
       "<Figure size 864x504 with 0 Axes>"
      ]
     },
     "metadata": {},
     "output_type": "display_data"
    }
   ],
   "source": [
    "plt.figure(figsize=(12,7))\n",
    "sns.boxplot(x='Pclass', y='Age', data=data, palette='winter')"
   ]
  },
  {
   "cell_type": "markdown",
   "metadata": {},
   "source": [
    "Usuwamy odstające wartości z atrybutu wiek. Przyjmuję że wszystkie wartości powyżej 100 oraz poniżej 0 są odstające. Wartość od 0 do 100, stanowią standardową długość życia człowieka."
   ]
  },
  {
   "cell_type": "code",
   "execution_count": null,
   "metadata": {},
   "outputs": [],
   "source": [
    "max_thresold = 100\n",
    "min_thresold = 0\n",
    "data[(data.Age > max_thresold) | (data.Age < min_thresold)]"
   ]
  },
  {
   "cell_type": "code",
   "execution_count": null,
   "metadata": {},
   "outputs": [],
   "source": [
    "data.loc[(data.Age > max_thresold) | (data.Age < min_thresold), 'Age'] = np.nan"
   ]
  },
  {
   "cell_type": "code",
   "execution_count": null,
   "metadata": {},
   "outputs": [],
   "source": [
    "plt.figure(figsize=(12,7))\n",
    "sns.boxplot(x='Pclass', y='Age', data=data, palette='winter')"
   ]
  },
  {
   "cell_type": "markdown",
   "metadata": {},
   "source": [
    "Teraz możemy rozwiązać problem z brakującymi wartościami atrybutu \"Age\". Utworzę tablicę zawierającą liczby losowe, które są obliczane na podstawie średniej wartości wieku w odniesieniu do odchylenia standardowego."
   ]
  },
  {
   "cell_type": "code",
   "execution_count": null,
   "metadata": {},
   "outputs": [],
   "source": [
    "mean = data[\"Age\"].mean()\n",
    "std = data[\"Age\"].std()\n",
    "is_null = data[\"Age\"].isnull().sum()\n",
    "\n",
    "#  Losujmey wartości z przedziału wartości średniej i odchylenia standardowego atrybutu \"Age\"\n",
    "rand_age = np.random.randint(mean - std, mean + std, size = is_null)\n",
    "\n",
    "# Uzpełniamy puste wartości w atrybucie \"Age\" wylosowanymi wartościami\n",
    "age_slice = data[\"Age\"].copy()\n",
    "age_slice[np.isnan(age_slice)] = rand_age\n",
    "data[\"Age\"] = age_slice\n",
    "data[\"Age\"] = data[\"Age\"].astype(int)\n",
    "data[\"Age\"].isnull().sum()"
   ]
  },
  {
   "cell_type": "markdown",
   "metadata": {},
   "source": [
    "Ponownie heatmap. Jak widać brakujące wartości atrybutu \"Age\" zostały usunięte."
   ]
  },
  {
   "cell_type": "code",
   "execution_count": null,
   "metadata": {},
   "outputs": [],
   "source": [
    "sns.heatmap(data.isnull(),yticklabels=False,cbar=False,cmap='viridis')"
   ]
  },
  {
   "cell_type": "markdown",
   "metadata": {},
   "source": [
    "#### Następnie zajmiemy się wartością atrybutu \"Cabin\"\n",
    "Atrybut \"Cabin\" zawiera bardzo dużo brakujących wartości. Atrybut \"Cabin\" przyjumuje zazwyczaj wzór „C123”, gdzie litera odnosi się do pokładu. Dlatego zamierzam ją wyodrębnić i stworzyć nowy atrybut, który zawiera tablicę pokładów. Następnie przekonwertujemy tą wartość na zmienną numeryczną. Brakujące wartości zostaną zamienione na zero."
   ]
  },
  {
   "cell_type": "code",
   "execution_count": null,
   "metadata": {},
   "outputs": [],
   "source": [
    "import re\n",
    "deck = {\"A\": 1, \"B\": 2, \"C\": 3, \"D\": 4, \"E\": 5, \"F\": 6, \"G\": 7, \"U\": 8}\n",
    "\n",
    "data['Cabin'] = data['Cabin'].fillna(\"U0\")\n",
    "data['Deck'] = data['Cabin'].map(lambda x: re.compile(\"([a-zA-Z]+)\").search(x).group())\n",
    "data['Deck'] = data['Deck'].map(deck)\n",
    "data['Deck'] = data['Deck'].fillna(0)\n",
    "data['Deck'] = data['Deck'].astype(int)\n",
    "    \n",
    "# Możemy teraz usunąć atrybut Cabin\n",
    "data = data.drop(['Cabin'], axis=1)"
   ]
  },
  {
   "cell_type": "markdown",
   "metadata": {},
   "source": [
    "Wygląd zbioru po preprocessingu"
   ]
  },
  {
   "cell_type": "code",
   "execution_count": null,
   "metadata": {},
   "outputs": [],
   "source": [
    "data"
   ]
  },
  {
   "cell_type": "markdown",
   "metadata": {},
   "source": [
    "#### Przygotowanie wartośći atrybutu \"Embarked\""
   ]
  },
  {
   "cell_type": "markdown",
   "metadata": {},
   "source": [
    "Ponieważ atrybut \"Embarked\" ma tylko 2 brakujące wartości, wypełnimy je najczęściej występującymi wartościami."
   ]
  },
  {
   "cell_type": "code",
   "execution_count": null,
   "metadata": {},
   "outputs": [],
   "source": [
    "data['Embarked'].describe()"
   ]
  },
  {
   "cell_type": "code",
   "execution_count": null,
   "metadata": {},
   "outputs": [],
   "source": [
    "common_value = 'S'\n",
    "\n",
    "data['Embarked'] = data['Embarked'].fillna(common_value)"
   ]
  },
  {
   "cell_type": "markdown",
   "metadata": {},
   "source": [
    "Zamienimy wartości atrybutu \"Embarked\", na wartości numeryczne"
   ]
  },
  {
   "cell_type": "code",
   "execution_count": null,
   "metadata": {},
   "outputs": [],
   "source": [
    "data['Embarked'].unique()"
   ]
  },
  {
   "cell_type": "code",
   "execution_count": null,
   "metadata": {},
   "outputs": [],
   "source": [
    "ports = {\"S\": 0, \"C\": 1, \"Q\": 2, \"So\": 0, \"Co\": 1, \"Qe\": 2}\n",
    "\n",
    "data['Embarked'] = data['Embarked'].map(ports)"
   ]
  },
  {
   "cell_type": "markdown",
   "metadata": {},
   "source": [
    "#### Przygotowanie wartośći atrybutu \"Name\""
   ]
  },
  {
   "cell_type": "markdown",
   "metadata": {},
   "source": [
    "Wykorzystamy atrybut \"Name\", aby wyodrębnić tytuły z jego wartości. Stworzymy na podstawie tych wartości nowy atrybut."
   ]
  },
  {
   "cell_type": "code",
   "execution_count": null,
   "metadata": {},
   "outputs": [],
   "source": [
    "titles = {\"Mr\": 1, \"Miss\": 2, \"Mrs\": 3, \"Master\": 4, \"Rare\": 5}\n",
    "\n",
    "# Wyodrębnie tytułów\n",
    "data['Title'] = data.Name.str.extract(' ([A-Za-z]+)\\.', expand=False)\n",
    "\n",
    "# Zamiana rzadko występujących tytułów na te bardziej popularne\n",
    "data['Title'] = data['Title'].replace(['Lady', 'Countess','Capt', 'Col','Don', 'Dr',\\\n",
    "                                        'Major', 'Rev', 'Sir', 'Jonkheer', 'Dona'], 'Rare')\n",
    "data['Title'] = data['Title'].replace('Mlle', 'Miss')\n",
    "data['Title'] = data['Title'].replace('Ms', 'Miss')\n",
    "data['Title'] = data['Title'].replace('Mme', 'Mrs')\n",
    "\n",
    "# Zamiana tytłów na wartości numeryczne\n",
    "data['Title'] = data['Title'].map(titles)\n",
    "\n",
    "# Uzupełnienie pustych wartości, wartością 0\n",
    "data['Title'] = data['Title'].fillna(0)\n",
    "\n",
    "data = data.drop(['Name'], axis=1)"
   ]
  },
  {
   "cell_type": "markdown",
   "metadata": {},
   "source": [
    "#### Przygotowanie wartości atrybutu \"Sex\""
   ]
  },
  {
   "cell_type": "markdown",
   "metadata": {},
   "source": [
    "Wartości występujące w atrybucie \"Sex\""
   ]
  },
  {
   "cell_type": "code",
   "execution_count": null,
   "metadata": {},
   "outputs": [],
   "source": [
    "data['Sex'].unique()"
   ]
  },
  {
   "cell_type": "markdown",
   "metadata": {},
   "source": [
    "Zamieniamy wartości atrybutu \"Sex\", na wartości numeryczne."
   ]
  },
  {
   "cell_type": "code",
   "execution_count": null,
   "metadata": {},
   "outputs": [],
   "source": [
    "genders = {\"male\": 0, \"female\": 1, \"malef\": 0, \"mal\": 0, \"fem\": 1, \"femmale\": 1}\n",
    "data['Sex'] = data['Sex'].map(genders)"
   ]
  },
  {
   "cell_type": "markdown",
   "metadata": {},
   "source": [
    "#### Przygotowanie wartości atrybutu \"Ticket\""
   ]
  },
  {
   "cell_type": "code",
   "execution_count": null,
   "metadata": {},
   "outputs": [],
   "source": [
    "data['Ticket'].describe()"
   ]
  },
  {
   "cell_type": "markdown",
   "metadata": {},
   "source": [
    "Ponieważ atrybut Ticket ma 681 unikalnych wartości, przekształcenie ich w przydatne kategorie byłoby nieco trudniejsze. Więc usuniemy go ze zbioru danych."
   ]
  },
  {
   "cell_type": "code",
   "execution_count": null,
   "metadata": {},
   "outputs": [],
   "source": [
    "data = data.drop(['Ticket'], axis=1)"
   ]
  },
  {
   "cell_type": "markdown",
   "metadata": {},
   "source": [
    "## Krok 5: Pomiar dokładności klasyfikacji na przygotowanym zbiorze danych"
   ]
  },
  {
   "cell_type": "markdown",
   "metadata": {},
   "source": [
    "W ostatnim kroku usnuniemy jeszcze ze zbioru niepotrzebne atrybuty, takie jak:  \n",
    "PassengerId - Atrybut okresląjący id pasażera, nie wnoszący nic do analizy danych  \n",
    "ship - Atrybut zawsze przyjmujący tą samą wartość.  \n",
    "Survived - Atrybut decyzyjny"
   ]
  },
  {
   "cell_type": "code",
   "execution_count": null,
   "metadata": {},
   "outputs": [],
   "source": [
    "X_data = data.drop([\"PassengerId\", \"ship\",  \"Survived\"], axis=1)\n",
    "X_data"
   ]
  },
  {
   "cell_type": "code",
   "execution_count": null,
   "metadata": {},
   "outputs": [],
   "source": [
    "Y_data = data.Survived;\n",
    "\n",
    "decision_tree = DecisionTreeClassifier()\n",
    "scores = cross_val_score(decision_tree, X_data, Y_data, cv=10)\n",
    "scores\n",
    "print(\"%0.2f accuracy with a standard deviation of %0.2f\" % (scores.mean(), scores.std()))"
   ]
  },
  {
   "cell_type": "markdown",
   "metadata": {},
   "source": [
    "Udało się uzyskać dokładność na poziomie około 78%."
   ]
  },
  {
   "cell_type": "markdown",
   "metadata": {},
   "source": [
    "## Krok 6: Zapis zbioru i podsumowanie"
   ]
  },
  {
   "cell_type": "markdown",
   "metadata": {},
   "source": [
    "#### Zapis zbioru do pliku"
   ]
  },
  {
   "cell_type": "code",
   "execution_count": null,
   "metadata": {},
   "outputs": [],
   "source": [
    "data.to_csv('./data/stackoverflow.csv')"
   ]
  },
  {
   "cell_type": "markdown",
   "metadata": {},
   "source": [
    "#### Podusmowanie\n",
    "Przygotowanie zbioru pozwala wykorzystać go w różnego rodzaju analizach. Również przygotowany zbiór pozowli zauważyć więcej zależnosći w danych oraz uzyskać lepsze wyniki podczas wykorzystania algorytmów uczenia maszynowego."
   ]
  }
 ],
 "metadata": {
  "kernelspec": {
   "display_name": "Python 3",
   "language": "python",
   "name": "python3"
  },
  "language_info": {
   "codemirror_mode": {
    "name": "ipython",
    "version": 3
   },
   "file_extension": ".py",
   "mimetype": "text/x-python",
   "name": "python",
   "nbconvert_exporter": "python",
   "pygments_lexer": "ipython3",
   "version": "3.8.5"
  }
 },
 "nbformat": 4,
 "nbformat_minor": 4
}
