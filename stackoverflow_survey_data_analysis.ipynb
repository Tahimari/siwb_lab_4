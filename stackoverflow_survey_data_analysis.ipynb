{
 "cells": [
  {
   "cell_type": "markdown",
   "metadata": {},
   "source": [
    "# Analiza danych z ankiety stackoverflow 2020\n",
    "## Kamil Misiak\n",
    "\n",
    "W tym sprawozdaniu przeprowadzę analizę zbioru danych, zawierającego dane z ankiety przeprowadzonej przez portal stackoverflow. Zbiór danych zostanie załadowany, oczyszczony i przeanalizowany.\n",
    "\n",
    "## Agenda\n",
    "1. Załadowanie zbioru danych i wstępne statystyki\n",
    "2. Przygotowanie danych\n",
    "3. Analiza i wizualizacja danych\n",
    "4. Pomiar dokładności klasyfikacji\n",
    "5. Podsumowanie"
   ]
  },
  {
   "cell_type": "markdown",
   "metadata": {},
   "source": [
    "## Krok 1: Załadowanie zbioru danych i wstępne statystyki"
   ]
  },
  {
   "cell_type": "code",
   "execution_count": null,
   "metadata": {},
   "outputs": [],
   "source": [
    "# Przygotowanie danych\n",
    "import pandas as pd\n",
    "import numpy as np\n",
    "\n",
    "# Wizualizacja\n",
    "import seaborn as sns\n",
    "import matplotlib.pyplot as plt\n",
    "%matplotlib inline\n",
    "\n",
    "# Dostosowanie wyglądu wizualizacji\n",
    "sns.set_style('darkgrid')\n",
    "plt.rcParams['font.size'] = 14\n",
    "plt.rcParams['figure.figsize'] = (9, 5)\n",
    "plt.rcParams['figure.facecolor'] = '#00000000'\n",
    "\n",
    "# Klasyfikacja\n",
    "from sklearn import preprocessing\n",
    "from sklearn.tree import DecisionTreeClassifier\n",
    "from sklearn.model_selection import cross_val_score\n",
    "\n",
    "# Scieżki do plików (dane, schemat)\n",
    "data_file_name = './data/survey_results_public.csv'\n",
    "schema_file_name = './data/survey_results_schema.csv'\n",
    "\n",
    "# Załadowanie zbioru\n",
    "data_raw = pd.read_csv(data_file_name, sep=',', header=0)"
   ]
  },
  {
   "cell_type": "markdown",
   "metadata": {},
   "source": [
    "#### Następnie przyjrzmy się atrybutom które występują w zbiorze danych"
   ]
  },
  {
   "cell_type": "code",
   "execution_count": null,
   "metadata": {},
   "outputs": [],
   "source": [
    "data_raw.columns"
   ]
  },
  {
   "cell_type": "markdown",
   "metadata": {},
   "source": [
    "#### Następnie wyświetlimy 5 pierwszych rekordów"
   ]
  },
  {
   "cell_type": "code",
   "execution_count": null,
   "metadata": {},
   "outputs": [],
   "source": [
    "data_raw.head()"
   ]
  },
  {
   "cell_type": "markdown",
   "metadata": {},
   "source": [
    "#### Oraz końcowe 5 rekordów"
   ]
  },
  {
   "cell_type": "code",
   "execution_count": null,
   "metadata": {},
   "outputs": [],
   "source": [
    "data_raw.tail()"
   ]
  },
  {
   "cell_type": "markdown",
   "metadata": {},
   "source": [
    "#### Podgląd zbioru"
   ]
  },
  {
   "cell_type": "code",
   "execution_count": null,
   "metadata": {},
   "outputs": [],
   "source": [
    "print(data_raw.shape)\n",
    "print('\\n')\n",
    "print(data_raw.dtypes)"
   ]
  },
  {
   "cell_type": "markdown",
   "metadata": {},
   "source": [
    "#### Liczba atrybutów oraz typ danych"
   ]
  },
  {
   "cell_type": "code",
   "execution_count": null,
   "metadata": {},
   "outputs": [],
   "source": [
    "data_raw.info()"
   ]
  },
  {
   "cell_type": "markdown",
   "metadata": {},
   "source": [
    "Jak widać w zbiorze mamy 64461 rekordy, które zawierają 61 atrybutów.\n",
    "#### Następnie wyświetlimy podstawowe statystki opisowe atrybutów"
   ]
  },
  {
   "cell_type": "code",
   "execution_count": null,
   "metadata": {},
   "outputs": [],
   "source": [
    "data_raw.describe()"
   ]
  },
  {
   "cell_type": "markdown",
   "metadata": {},
   "source": [
    "#### Do zbioru danych dodatkowo dołączony jest plik zawierający opisy zawartości atrybutów"
   ]
  },
  {
   "cell_type": "code",
   "execution_count": null,
   "metadata": {},
   "outputs": [],
   "source": [
    "schema_raw = pd.read_csv(schema_file_name, index_col='Column')\n",
    "pd.set_option('display.max_rows', schema_raw.shape[0]+1)\n",
    "pd.set_option('max_colwidth', None)\n",
    "schema_raw"
   ]
  },
  {
   "cell_type": "markdown",
   "metadata": {},
   "source": [
    "Następnie przygotujemy zmienną, dzięki której będziemy mogli odczytywać pytanie należące do danej kolumny."
   ]
  },
  {
   "cell_type": "code",
   "execution_count": null,
   "metadata": {},
   "outputs": [],
   "source": [
    "schema_raw = pd.read_csv(schema_file_name, index_col='Column').QuestionText"
   ]
  },
  {
   "cell_type": "code",
   "execution_count": null,
   "metadata": {},
   "outputs": [],
   "source": [
    "# Dowolna nazwa kolumny\n",
    "schema_raw['WorkWeekHrs']"
   ]
  },
  {
   "cell_type": "markdown",
   "metadata": {},
   "source": [
    "## Krok 2: Przygotowanie danych"
   ]
  },
  {
   "cell_type": "markdown",
   "metadata": {},
   "source": [
    "Chociaż odpowiedzi na ankietę zawierają bogactwo informacji, moja analiza zostanie ograniczona do następujących obszarów:\n",
    "\n",
    "1. Dane demograficzne respondentów badania,\n",
    "2. Dystrybucja umiejętności programistycznych, doświadczenia i preferencji,\n",
    "3. Informacje, preferencje i opinie dotyczące zatrudnienia.\n",
    "\n",
    "Wybieramy podzbiór atrubutów z odpowiednimi danymi do naszej analizy."
   ]
  },
  {
   "cell_type": "code",
   "execution_count": null,
   "metadata": {},
   "outputs": [],
   "source": [
    "selected_columns = [\n",
    "    # Dane demograficzne\n",
    "    'Country',\n",
    "    'Age',\n",
    "    'Gender',\n",
    "    'EdLevel',\n",
    "    'UndergradMajor',\n",
    "    # Doświadczenie programistyczne\n",
    "    'Hobbyist',\n",
    "    'Age1stCode',\n",
    "    'YearsCode',\n",
    "    'YearsCodePro',\n",
    "    'LanguageWorkedWith',\n",
    "    'LanguageDesireNextYear',\n",
    "    'NEWLearn',\n",
    "    'NEWStuck',\n",
    "    # Zatrudnienie\n",
    "    'Employment',\n",
    "    'DevType',\n",
    "    'WorkWeekHrs',\n",
    "    'JobSat',\n",
    "    'JobFactors',\n",
    "    'NEWOvertime',\n",
    "    'NEWEdImpt'\n",
    "]"
   ]
  },
  {
   "cell_type": "code",
   "execution_count": null,
   "metadata": {},
   "outputs": [],
   "source": [
    "len(selected_columns)"
   ]
  },
  {
   "cell_type": "markdown",
   "metadata": {},
   "source": [
    "Skopiujemy dane zawierającą powyższe kolumny, do nowej ramki danych o nazwie \"data\". Aby kontynuować dalsze przygotowanie danych bez wpływu na orginalny zbiór danych"
   ]
  },
  {
   "cell_type": "code",
   "execution_count": null,
   "metadata": {},
   "outputs": [],
   "source": [
    "data = data_raw[selected_columns].copy(deep=True)"
   ]
  },
  {
   "cell_type": "code",
   "execution_count": null,
   "metadata": {},
   "outputs": [],
   "source": [
    "schema = schema_raw[selected_columns]"
   ]
  },
  {
   "cell_type": "markdown",
   "metadata": {},
   "source": [
    "Wyświetlimy podstawowe informacje o ramce danych"
   ]
  },
  {
   "cell_type": "code",
   "execution_count": null,
   "metadata": {},
   "outputs": [],
   "source": [
    "data.shape"
   ]
  },
  {
   "cell_type": "code",
   "execution_count": null,
   "metadata": {},
   "outputs": [],
   "source": [
    "data.info()"
   ]
  },
  {
   "cell_type": "markdown",
   "metadata": {},
   "source": [
    "Następnie określimy pradwidłowe typy dla naszy danych"
   ]
  },
  {
   "cell_type": "markdown",
   "metadata": {},
   "source": [
    "Zaczniemy od atrybutu \"Age1stCode\""
   ]
  },
  {
   "cell_type": "code",
   "execution_count": null,
   "metadata": {},
   "outputs": [],
   "source": [
    "schema['Age1stCode']"
   ]
  },
  {
   "cell_type": "markdown",
   "metadata": {},
   "source": [
    "Według pytania, atrybut powinnien zawierać wartości numeryczne określające wiek osoby ankietowanej"
   ]
  },
  {
   "cell_type": "code",
   "execution_count": null,
   "metadata": {},
   "outputs": [],
   "source": [
    "data['Age1stCode'].unique()"
   ]
  },
  {
   "cell_type": "markdown",
   "metadata": {},
   "source": [
    "Jak widać trafiają się również ciągi znaków np, \"Older than 85\". Zamiennimy te wartości na wartości puste, ponieważ określają one wartości odstające, które nie są przydatne w anzalizie. Wykonamy tą samą operacje dla 'YearsCode' oraz 'YearsCodePro' ponieważ te atrybuty zawierają podobne wartości. Poniższe operacje przekształcają wartości liczobwe na liczby, a ciągi znaków na wartości puste."
   ]
  },
  {
   "cell_type": "code",
   "execution_count": null,
   "metadata": {},
   "outputs": [],
   "source": [
    "data['Age1stCode'] = pd.to_numeric(data['Age1stCode'], errors='coerce')\n",
    "data['YearsCode'] = pd.to_numeric(data['YearsCode'], errors='coerce')\n",
    "data['YearsCodePro'] = pd.to_numeric(data['YearsCodePro'], errors='coerce')"
   ]
  },
  {
   "cell_type": "markdown",
   "metadata": {},
   "source": [
    "Wyświetlimy podstawe informacje po przekształceniu wartości"
   ]
  },
  {
   "cell_type": "code",
   "execution_count": null,
   "metadata": {},
   "outputs": [],
   "source": [
    "data.describe()"
   ]
  },
  {
   "cell_type": "markdown",
   "metadata": {},
   "source": [
    "Wygląda na to, że występuje problem z kolumną wieku, ponieważ minimalna wartość to 1, a maksymalna to 279. Jest to częsty problem z ankietami, odpowiedzi mogą zawierać nieprawidłowe wartości z powodu przypadkowych lub celowych błędów podczas odpowiadania. Prostym rozwiązanie będzie usunięcie wierszy, w których wiek jest wyższy niż 100 lat lub niższy niż 10 lat. Możemy to zrobić za pomocą metody .drop"
   ]
  },
  {
   "cell_type": "code",
   "execution_count": null,
   "metadata": {},
   "outputs": [],
   "source": [
    "data.drop(data[data['Age'] < 10].index, inplace=True)\n",
    "data.drop(data[data['Age'] > 100].index, inplace=True)"
   ]
  },
  {
   "cell_type": "markdown",
   "metadata": {},
   "source": [
    "To samo dotyczy WorkWeekHrs. Usuniemy wpisy, w których wartość kolumny jest większa niż 140 godzin. (około 20 godzin dziennie)."
   ]
  },
  {
   "cell_type": "code",
   "execution_count": null,
   "metadata": {},
   "outputs": [],
   "source": [
    "data.drop(data[data['WorkWeekHrs'] > 140].index, inplace=True)"
   ]
  },
  {
   "cell_type": "markdown",
   "metadata": {},
   "source": [
    "Kolumna płeć pozwala również na wybranie wielu opcji. Usuniemy wartości zawierające więcej niż jedną opcję, aby uprościć naszą analizę."
   ]
  },
  {
   "cell_type": "code",
   "execution_count": null,
   "metadata": {},
   "outputs": [],
   "source": [
    "data['Gender'].value_counts()"
   ]
  },
  {
   "cell_type": "code",
   "execution_count": null,
   "metadata": {},
   "outputs": [],
   "source": [
    "data.where(~(data['Gender'].str.contains(';', na=False)), np.nan, inplace=True)"
   ]
  },
  {
   "cell_type": "markdown",
   "metadata": {},
   "source": [
    "Wyczyściliśmy teraz i przygotowaliśmy zbiór danych do analizy. Przyjrzyjmy się próbce wierszy."
   ]
  },
  {
   "cell_type": "code",
   "execution_count": null,
   "metadata": {},
   "outputs": [],
   "source": [
    "data.sample(10)"
   ]
  },
  {
   "cell_type": "markdown",
   "metadata": {},
   "source": [
    "## Krok 3: Analiza i wizualizacja danych"
   ]
  },
  {
   "cell_type": "markdown",
   "metadata": {},
   "source": [
    "W pierwszym kroku przyjrzymy się danym demograficznych respondentów, tj. Kraju, wieku, płci, poziomu wykształcenia, poziomu zatrudnienia itp. Konieczne jest zbadanie tych zmiennych, aby zrozumieć, jak reprezentatywna jest ankieta dla światowej społeczność programistów."
   ]
  },
  {
   "cell_type": "markdown",
   "metadata": {},
   "source": [
    "#### Atrybut \"Country\""
   ]
  },
  {
   "cell_type": "markdown",
   "metadata": {},
   "source": [
    "Przyjrzyjmy się liczbie krajów, z których pochodzą odpowiedzi w ankiecie i wytypujmy dziesięć krajów z największą liczbą odpowiedzi."
   ]
  },
  {
   "cell_type": "code",
   "execution_count": null,
   "metadata": {},
   "outputs": [],
   "source": [
    "schema['Country']"
   ]
  },
  {
   "cell_type": "code",
   "execution_count": null,
   "metadata": {},
   "outputs": [],
   "source": [
    "data['Country'].nunique()"
   ]
  },
  {
   "cell_type": "markdown",
   "metadata": {},
   "source": [
    "Kraje o największej liczbie respondentów możemy zidentyfikować metodą value_counts."
   ]
  },
  {
   "cell_type": "code",
   "execution_count": null,
   "metadata": {},
   "outputs": [],
   "source": [
    "top_countries = data['Country'].value_counts().head(10)\n",
    "top_countries"
   ]
  },
  {
   "cell_type": "code",
   "execution_count": null,
   "metadata": {},
   "outputs": [],
   "source": [
    "plt.figure(figsize=(12,6))\n",
    "plt.xticks(rotation=75)\n",
    "plt.title(schema.Country)\n",
    "\n",
    "sns.barplot(x=top_countries.index, y=top_countries);"
   ]
  },
  {
   "cell_type": "markdown",
   "metadata": {},
   "source": [
    "Oraz przedstawimy dane na mapie świata z pomocą elementu \"dash\"."
   ]
  },
  {
   "cell_type": "code",
   "execution_count": null,
   "metadata": {},
   "outputs": [],
   "source": [
    "import plotly.express as px\n",
    "from jupyter_dash import JupyterDash\n",
    "import dash_core_components as dcc\n",
    "import dash_html_components as html\n",
    "import pycountry\n",
    "import pycountry_convert as pc\n",
    "\n",
    "# Załadowanie danych\n",
    "top_countries_df = data['Country'].value_counts().rename_axis('country').reset_index(name='counts')\n",
    "\n",
    "countries_alpha_3 = {}\n",
    "countries_alpha_2 = {}\n",
    "for country in pycountry.countries:\n",
    "    countries_alpha_3[country.name] = country.alpha_3\n",
    "    countries_alpha_2[country.name] = country.alpha_2\n",
    "        \n",
    "top_countries_df['iso_alpha_3'] = [countries_alpha_3.get(country, 'Unknown code') for country in top_countries_df['country']]\n",
    "top_countries_df['iso_alpha_2'] = [countries_alpha_2.get(country, 'Unknown code') for country in top_countries_df['country']]\n",
    "\n",
    "for index, row in top_countries_df.iterrows():\n",
    "    if row['iso_alpha_2'] != 'Unknown code' and row['iso_alpha_2'] != 'TL':\n",
    "        top_countries_df.at[index, 'continent'] = pc.country_alpha2_to_continent_code(row['iso_alpha_2'])\n",
    "    else:\n",
    "        top_countries_df.at[index, 'continent'] = 'Other'\n",
    "    \n",
    "fig = px.scatter_geo(top_countries_df, locations=\"iso_alpha_3\", color=\"continent\",\n",
    "                     hover_name=\"country\", size=\"counts\",\n",
    "                     projection=\"natural earth\")\n",
    "\n",
    "# Uruchomienie widgetu\n",
    "app = JupyterDash(__name__)\n",
    "app.layout = html.Div([\n",
    "    html.P(\"Kraje:\"),\n",
    "    dcc.Graph(figure=fig),\n",
    "])\n",
    "\n",
    "\n",
    "app.run_server(mode='inline', use_reloader=False)"
   ]
  },
  {
   "cell_type": "markdown",
   "metadata": {},
   "source": [
    "Wygląda na to, że nieproporcjonalnie duża liczba respondentów pochodzi z USA i Indii, prawdopodobnie dlatego, że ankieta jest prowadzona w języku angielskim, a kraje te mają największą populację anglojęzyczną. Można zakładać, że ankieta może nie być reprezentatywna dla globalnej społeczności programistów - zwłaszcza z krajów nieanglojęzycznych."
   ]
  },
  {
   "cell_type": "markdown",
   "metadata": {},
   "source": [
    "#### Atrybut \"Age\"\n",
    "Rozkład wieku respondentów jest kolejnym czynnikiem, na który warto zwrócić uwagę. Do wizualizacji użyjemy histogramu."
   ]
  },
  {
   "cell_type": "code",
   "execution_count": null,
   "metadata": {},
   "outputs": [],
   "source": [
    "plt.figure(figsize=(12, 6))\n",
    "plt.title(schema['Age'])\n",
    "plt.xlabel('Wiek')\n",
    "plt.ylabel('Liczba respondentów')\n",
    "\n",
    "plt.hist(data['Age'], bins=np.arange(10,80,5), color='purple');"
   ]
  },
  {
   "cell_type": "markdown",
   "metadata": {},
   "source": [
    "Wydaje się, że duży odsetek respondentów ma od 20 do 45 lat. Jest to w pewnym stopniu reprezentatywne dla społeczności programistów. Wielu młodych ludzi podjęło się nauki informatyki jako kierunku studiów lub zawodu w ciągu ostatnich 20 lat."
   ]
  },
  {
   "cell_type": "markdown",
   "metadata": {},
   "source": [
    "#### Atrybut \"Gender\"\n",
    "Przyjrzyjmy się rozkładowi odpowiedzi dla płci. Powszechnie wiadomo, że kobiety są niedostatecznie reprezentowane w społeczności programistów."
   ]
  },
  {
   "cell_type": "code",
   "execution_count": null,
   "metadata": {},
   "outputs": [],
   "source": [
    "schema['Gender']"
   ]
  },
  {
   "cell_type": "code",
   "execution_count": null,
   "metadata": {},
   "outputs": [],
   "source": [
    "gender_counts = data['Gender'].value_counts()\n",
    "gender_counts"
   ]
  },
  {
   "cell_type": "code",
   "execution_count": null,
   "metadata": {},
   "outputs": [],
   "source": [
    "plt.figure(figsize=(12,6))\n",
    "plt.title(schema.Gender)\n",
    "plt.pie(gender_counts, labels=gender_counts.index, autopct='%1.1f%%', startangle=180);"
   ]
  },
  {
   "cell_type": "markdown",
   "metadata": {},
   "source": [
    "Tylko około 8% respondentów, którzy odpowiedzieli na pytanie, identyfikuje się jako kobiety lub osoby niebinarne. Liczba ta jest niższa niż ogólny odsetek kobiet i niebinarnych płci w społeczności programistów (szacowany na około 12%)."
   ]
  },
  {
   "cell_type": "markdown",
   "metadata": {},
   "source": [
    "#### Atrybutu \"Education Level\"\n",
    "Formalne wykształcenie informatyczne jest często uważane za niezbędny warunek zostania programistą. Istnieje jednak wiele bezpłatnych kursów i samouczków dostępnych w internecie, aby nauczyć się programowania. Porównamy poziom wykształcenia respondentów, aby uzyskać wgląd. Użyjemy do tego celu poziomego wykresu słupkowego."
   ]
  },
  {
   "cell_type": "code",
   "execution_count": null,
   "metadata": {},
   "outputs": [],
   "source": [
    "sns.countplot(y=data['EdLevel'])\n",
    "plt.xticks(rotation=75);\n",
    "plt.title(schema['EdLevel'])\n",
    "plt.ylabel(None);"
   ]
  },
  {
   "cell_type": "markdown",
   "metadata": {},
   "source": [
    "Wydaje się, że ponad połowa respondentów posiada tytuł licencjata lub magistra, więc większość programistów wydaje się mieć wykształcenie wyższe. Jednak z samego tego wykresu nie wynika jasno, czy posiadają dyplom z informatyki."
   ]
  },
  {
   "cell_type": "markdown",
   "metadata": {},
   "source": [
    "Następnie przyjrzymy się głównemu kierunkowi nauki, jaki wybrali respondenci."
   ]
  },
  {
   "cell_type": "code",
   "execution_count": null,
   "metadata": {},
   "outputs": [],
   "source": [
    "schema.UndergradMajor"
   ]
  },
  {
   "cell_type": "code",
   "execution_count": null,
   "metadata": {},
   "outputs": [],
   "source": [
    "undergrad_pct = data['UndergradMajor'].value_counts() * 100 / data['UndergradMajor'].count()\n",
    "\n",
    "sns.barplot(x=undergrad_pct, y=undergrad_pct.index)\n",
    "\n",
    "plt.title(schema['UndergradMajor'])\n",
    "plt.ylabel(None);\n",
    "plt.xlabel('Procent');"
   ]
  },
  {
   "cell_type": "markdown",
   "metadata": {},
   "source": [
    "Okazuje się, że 40% programistów z wyższym wykształceniem ma kierunek inny niż informatyka - co jest bardzo zachęcające. Wydaje się to sugerować, że chociaż wykształcenie wyższe jest ogólnie pomocne, nie jest konieczne studiowanie informatyki, aby odnieść sukces jako programista."
   ]
  },
  {
   "cell_type": "markdown",
   "metadata": {},
   "source": [
    "#### Atrybutu \"Employment\"\n",
    "Praca na zlecenie lub własna działalność gospodarcza to częsty wybór wśród programistów, więc byłoby interesujące porównać podział na pracę w pełnym wymiarze godzin, w niepełnym wymiarze godzin i pracę na własny rachunek. Zwizualizujmy dane z kolumny Zatrudnienie."
   ]
  },
  {
   "cell_type": "code",
   "execution_count": null,
   "metadata": {},
   "outputs": [],
   "source": [
    "schema['Employment']"
   ]
  },
  {
   "cell_type": "code",
   "execution_count": null,
   "metadata": {},
   "outputs": [],
   "source": [
    "(data['Employment'].value_counts(normalize=True, ascending=True)*100).plot(kind='barh', color='g')\n",
    "plt.title(schema['Employment'])\n",
    "plt.xlabel('Procent');"
   ]
  },
  {
   "cell_type": "markdown",
   "metadata": {},
   "source": [
    "Wygląda na to, że blisko 10% respondentów jest zatrudnionych w niepełnym wymiarze godzin lub jako freelancerzy."
   ]
  },
  {
   "cell_type": "markdown",
   "metadata": {},
   "source": [
    "Pole DevType zawiera informacje o rolach pełnionych przez respondentów. Ponieważ pytanie pozwala na wiele odpowiedzi, kolumna zawiera listy wartości oddzielone średnikiem, co utrudnia analizę."
   ]
  },
  {
   "cell_type": "code",
   "execution_count": null,
   "metadata": {},
   "outputs": [],
   "source": [
    "schema['DevType']"
   ]
  },
  {
   "cell_type": "code",
   "execution_count": null,
   "metadata": {},
   "outputs": [],
   "source": [
    "data['DevType'].value_counts()"
   ]
  },
  {
   "cell_type": "markdown",
   "metadata": {},
   "source": [
    "Zdefiniujmy funkcję pomocniczą, która zamienia kolumnę zawierającą listy wartości (np. data['DevType']) w ramkę danych z jedną kolumną dla każdej możliwej opcji."
   ]
  },
  {
   "cell_type": "code",
   "execution_count": null,
   "metadata": {},
   "outputs": [],
   "source": [
    "def split_multicolumn(col_series):\n",
    "    result_df = col_series.to_frame()\n",
    "    options = []\n",
    "    # Pętla po wszystkich atrybutach\n",
    "    for idx, value  in col_series[col_series.notnull()].iteritems():\n",
    "        # Podział wartośći według średnika\n",
    "        for option in value.split(';'):\n",
    "            # Jężeli nie występuje taka wartość, dodanie nowej\n",
    "            if not option in result_df.columns:\n",
    "                options.append(option)\n",
    "                result_df[option] = False\n",
    "            # Oznaczenie wartośći jak True\n",
    "            result_df.at[idx, option] = True\n",
    "    return result_df[options]"
   ]
  },
  {
   "cell_type": "code",
   "execution_count": null,
   "metadata": {},
   "outputs": [],
   "source": [
    "dev_type_df = split_multicolumn(data['DevType'])"
   ]
  },
  {
   "cell_type": "code",
   "execution_count": null,
   "metadata": {},
   "outputs": [],
   "source": [
    "dev_type_df"
   ]
  },
  {
   "cell_type": "markdown",
   "metadata": {},
   "source": [
    "Zmienna \"dev_type_df\" ma jedną kolumnę dla każdej opcji, którą można wybrać jako odpowiedź. Jeśli respondent wybrał opcję wtedy kolumna przyjmuje wartość True, W przeciwnym razie wartość False.\n",
    "\n",
    "Możemy teraz użyć sum według kolumn, aby zidentyfikować najpowszechniejsze role."
   ]
  },
  {
   "cell_type": "code",
   "execution_count": null,
   "metadata": {},
   "outputs": [],
   "source": [
    "dev_type_totals = dev_type_df.sum().sort_values(ascending=False)\n",
    "dev_type_totals"
   ]
  },
  {
   "cell_type": "markdown",
   "metadata": {},
   "source": [
    "Jak widać najwięcej programistów zajmuję się backendem oraz frontendem, co nie jest zaskakujące ponieważ świat IT obecnie w głównej mierze skupia się na technologiach webowych."
   ]
  },
  {
   "cell_type": "markdown",
   "metadata": {},
   "source": [
    "#### Najpopularniejszy język programowania w roku 2020?"
   ]
  },
  {
   "cell_type": "markdown",
   "metadata": {},
   "source": [
    "Aby odpowiedzieć, możemy użyć kolumny LanguageWorkedWith. Podobnie jak w przypadku atrybutu \"DevType\", respondenci mogli wybrać tutaj wiele opcji."
   ]
  },
  {
   "cell_type": "code",
   "execution_count": null,
   "metadata": {},
   "outputs": [],
   "source": [
    "data['LanguageWorkedWith']"
   ]
  },
  {
   "cell_type": "markdown",
   "metadata": {},
   "source": [
    "Najpierw podzielimy tę kolumnę na ramkę danych zawierającą kolumnę każdego języka wymienionego w opcjach (tak samo jak w przypadku kolumny \"DevType\")."
   ]
  },
  {
   "cell_type": "code",
   "execution_count": null,
   "metadata": {},
   "outputs": [],
   "source": [
    "languages_worked_df = split_multicolumn(data['LanguageWorkedWith'])"
   ]
  },
  {
   "cell_type": "code",
   "execution_count": null,
   "metadata": {},
   "outputs": [],
   "source": [
    "languages_worked_df"
   ]
  },
  {
   "cell_type": "markdown",
   "metadata": {},
   "source": [
    "Wśród opcji uwzględniono łącznie 25 języków. Zsumujmy je, aby określić procent respondentów, którzy wybrali każdy język."
   ]
  },
  {
   "cell_type": "code",
   "execution_count": null,
   "metadata": {},
   "outputs": [],
   "source": [
    "languages_worked_percentages = languages_worked_df.mean().sort_values(ascending=False) * 100\n",
    "languages_worked_percentages"
   ]
  },
  {
   "cell_type": "markdown",
   "metadata": {},
   "source": [
    "Możemy zwizualizować te informacje za pomocą poziomego wykresu słupkowego."
   ]
  },
  {
   "cell_type": "code",
   "execution_count": null,
   "metadata": {},
   "outputs": [],
   "source": [
    "plt.figure(figsize=(12, 12))\n",
    "sns.barplot(x=languages_worked_percentages, y=languages_worked_percentages.index)\n",
    "plt.title(\"Języki używane w ostatnich latach\");\n",
    "plt.xlabel('liczba');"
   ]
  },
  {
   "cell_type": "markdown",
   "metadata": {},
   "source": [
    "Nic dziwnego, że Javascript i HTML / CSS znajdują się na szczycie, ponieważ tworzenie stron internetowych jest obecnie jedną z najbardziej poszukiwanych umiejętności. Jest to również jeden z najłatwiejszych do rozpoczęcia. SQL jest niezbędny do pracy z relacyjnymi bazami danych, nic więc dziwnego, że większość programistów regularnie korzysta z SQL. Wydaje się, że Python jest popularnym wyborem dla innych form programowania, wyprzedzając Javę, która była branżowym standardem w tworzeniu serwerów i aplikacji przez ponad dwie dekady."
   ]
  },
  {
   "cell_type": "markdown",
   "metadata": {},
   "source": [
    "#### Jak ważne jest by budować karierę w młodym wieku?"
   ]
  },
  {
   "cell_type": "markdown",
   "metadata": {},
   "source": [
    "Stwórzmy wykres punktowy przedstawiający zależność \"Age\" od \"YearsCodePro\" (tj. Wiek i Lata doświadczenia w kodowaniu), aby odpowiedzieć na to pytanie."
   ]
  },
  {
   "cell_type": "code",
   "execution_count": null,
   "metadata": {},
   "outputs": [],
   "source": [
    "schema['YearsCodePro']"
   ]
  },
  {
   "cell_type": "code",
   "execution_count": null,
   "metadata": {},
   "outputs": [],
   "source": [
    "sns.scatterplot(x='Age', y='YearsCodePro', hue='Hobbyist', data=data)\n",
    "plt.xlabel(\"Wiek\")\n",
    "plt.ylabel(\"Lata doświadczenia w programowaniu\");"
   ]
  },
  {
   "cell_type": "markdown",
   "metadata": {},
   "source": [
    "Punkty widoczne są na całym wykresie, co może sugerować, że możesz zacząć programować zawodowo w każdym wieku. Wiele osób, które zajmują się programowaniem zawodowo od kilkudziesięciu lat, również lubi to robić jako hobby."
   ]
  },
  {
   "cell_type": "markdown",
   "metadata": {},
   "source": [
    "Możemy również zobaczyć rozkład kolumny \"Age1stCode\", aby zobaczyć, kiedy respondenci próbowali programować po raz pierwszy"
   ]
  },
  {
   "cell_type": "code",
   "execution_count": null,
   "metadata": {},
   "outputs": [],
   "source": [
    "plt.title(schema.Age1stCode)\n",
    "sns.histplot(x=data['Age1stCode'], bins=30, kde=True);"
   ]
  },
  {
   "cell_type": "markdown",
   "metadata": {},
   "source": [
    "Jak można się było spodziewać, większość ludzi miała styczność z programowaniem przed czterdziestym rokiem życia. Jednak są ludzie w każdym wieku i ze wszystkich środowisk uczących się kodowania."
   ]
  },
  {
   "cell_type": "markdown",
   "metadata": {},
   "source": [
    "## Krok 4: Pomiar dokładności klasyfikacji"
   ]
  },
  {
   "cell_type": "markdown",
   "metadata": {},
   "source": [
    "W ostatnim kroku spróbujemy sklasyfikować na podstwie pozyskanych danych, z jakiego kraju pochodzi respondent.\n",
    "\n",
    "Użyjemy do tego zadania atrybutów: Country, Age, YearsCodePro, Gender, EdLevel, Employment"
   ]
  },
  {
   "cell_type": "code",
   "execution_count": null,
   "metadata": {},
   "outputs": [],
   "source": [
    "selected_columns = [\n",
    "    'Country',\n",
    "    'Age',\n",
    "    'YearsCodePro',\n",
    "    'Gender',\n",
    "    'EdLevel',\n",
    "    'Employment',\n",
    "]\n",
    "\n",
    "X_data = data[selected_columns].copy(deep=True)\n",
    "X_data"
   ]
  },
  {
   "cell_type": "markdown",
   "metadata": {},
   "source": [
    "Przygotujemy zmienną le, służacą do kodowania wartości atrybutów"
   ]
  },
  {
   "cell_type": "code",
   "execution_count": null,
   "metadata": {},
   "outputs": [],
   "source": [
    "le = preprocessing.LabelEncoder()"
   ]
  },
  {
   "cell_type": "markdown",
   "metadata": {},
   "source": [
    "Aby uruchomić algorytm klasyfikacji musimy usunąć brakujące wartośći z atrybutu Age. Zrobimy to tym samym sposobem co w sprawozdaniu titanic."
   ]
  },
  {
   "cell_type": "code",
   "execution_count": null,
   "metadata": {},
   "outputs": [],
   "source": [
    "mean = X_data[\"Age\"].mean()\n",
    "std = X_data[\"Age\"].std()\n",
    "is_null = X_data[\"Age\"].isnull().sum()\n",
    "\n",
    "# Losujemy wartości z przedziału wartości średniej i odchylenia standardowego atrybutu \"Age\"\n",
    "rand_age = np.random.randint(mean - std, mean + std, size = is_null)\n",
    "\n",
    "# Uzpełniamy puste wartości w atrybucie \"Age\" wylosowanymi wartościami\n",
    "age_slice = X_data[\"Age\"].copy()\n",
    "age_slice[np.isnan(age_slice)] = rand_age\n",
    "X_data[\"Age\"] = age_slice\n",
    "X_data[\"Age\"] = X_data[\"Age\"].astype(int)\n",
    "X_data[\"Age\"].isnull().sum()\n",
    "X_data[\"Age\"] = pd.qcut(X_data['Age'], 3)\n",
    "le.fit(X_data[\"Age\"])\n",
    "X_data[\"Age\"] = le.transform(X_data[\"Age\"])"
   ]
  },
  {
   "cell_type": "markdown",
   "metadata": {},
   "source": [
    "Podobnie postąpimy z atrybutem YearsCodePro"
   ]
  },
  {
   "cell_type": "code",
   "execution_count": null,
   "metadata": {},
   "outputs": [],
   "source": [
    "mean = X_data[\"YearsCodePro\"].mean()\n",
    "std = X_data[\"YearsCodePro\"].std()\n",
    "is_null = X_data[\"YearsCodePro\"].isnull().sum()\n",
    "\n",
    "# Losujemy wartości z przedziału wartości średniej i odchylenia standardowego atrybutu \"Age\"\n",
    "rand_age = np.random.randint(mean - std, mean + std, size = is_null)\n",
    "\n",
    "# Uzpełniamy puste wartości w atrybucie \"Age\" wylosowanymi wartościami\n",
    "age_slice = X_data[\"YearsCodePro\"].copy()\n",
    "age_slice[np.isnan(age_slice)] = rand_age\n",
    "X_data[\"YearsCodePro\"] = age_slice\n",
    "X_data[\"YearsCodePro\"] = X_data[\"YearsCodePro\"].astype(int)\n",
    "X_data[\"YearsCodePro\"].isnull().sum()\n",
    "X_data[\"YearsCodePro\"] = pd.qcut(X_data['YearsCodePro'], 3)\n",
    "le.fit(X_data[\"YearsCodePro\"])\n",
    "X_data[\"YearsCodePro\"] = le.transform(X_data[\"YearsCodePro\"])"
   ]
  },
  {
   "cell_type": "code",
   "execution_count": null,
   "metadata": {},
   "outputs": [],
   "source": [
    "X_data = X_data.dropna(axis=0, how='any')"
   ]
  },
  {
   "cell_type": "code",
   "execution_count": null,
   "metadata": {},
   "outputs": [],
   "source": [
    "total = X_data.isnull().sum().sort_values(ascending=False)\n",
    "percent_1 = X_data.isnull().sum()/X_data.isnull().count()*100\n",
    "percent_2 = (round(percent_1, 1)).sort_values(ascending=False)\n",
    "missing_data = pd.concat([total, percent_2], axis=1, keys=['Total', '%'])\n",
    "missing_data.head(20)"
   ]
  },
  {
   "cell_type": "markdown",
   "metadata": {},
   "source": [
    "Jak widać udało się całkowicie pozbyć brakujących wartości."
   ]
  },
  {
   "cell_type": "code",
   "execution_count": null,
   "metadata": {},
   "outputs": [],
   "source": [
    "# Klasa pomocnicza do operacji na danych\n",
    "class ChainedAssignent:\n",
    "    def __init__(self, chained=None):\n",
    "        acceptable = [None, 'warn', 'raise']\n",
    "        assert chained in acceptable, \"chained must be in \" + str(acceptable)\n",
    "        self.swcw = chained\n",
    "\n",
    "    def __enter__(self):\n",
    "        self.saved_swcw = pd.options.mode.chained_assignment\n",
    "        pd.options.mode.chained_assignment = self.swcw\n",
    "        return self\n",
    "\n",
    "    def __exit__(self, *args):\n",
    "        pd.options.mode.chained_assignment = self.saved_swcw"
   ]
  },
  {
   "cell_type": "markdown",
   "metadata": {},
   "source": [
    "Mapujemy wartości atrybutu Gender"
   ]
  },
  {
   "cell_type": "code",
   "execution_count": null,
   "metadata": {},
   "outputs": [],
   "source": [
    "le.fit(X_data['Gender'])\n",
    "with ChainedAssignent():\n",
    "    X_data['Gender'] = le.transform(X_data['Gender'])"
   ]
  },
  {
   "cell_type": "markdown",
   "metadata": {},
   "source": [
    "Mapujemy wartości atrybutu EdLevel"
   ]
  },
  {
   "cell_type": "code",
   "execution_count": null,
   "metadata": {},
   "outputs": [],
   "source": [
    "le.fit(X_data['EdLevel'])\n",
    "with ChainedAssignent():\n",
    "    X_data['EdLevel'] = le.transform(X_data['EdLevel'])"
   ]
  },
  {
   "cell_type": "markdown",
   "metadata": {},
   "source": [
    "Mapujemy wartości atrybutu Employment"
   ]
  },
  {
   "cell_type": "code",
   "execution_count": null,
   "metadata": {},
   "outputs": [],
   "source": [
    "le.fit(X_data['Employment'])\n",
    "with ChainedAssignent():\n",
    "    X_data['Employment'] = le.transform(X_data['Employment'])"
   ]
  },
  {
   "cell_type": "markdown",
   "metadata": {},
   "source": [
    "Przegląd danych w zbiorze do klasyfikacji."
   ]
  },
  {
   "cell_type": "code",
   "execution_count": null,
   "metadata": {},
   "outputs": [],
   "source": [
    "X_data.info()"
   ]
  },
  {
   "cell_type": "markdown",
   "metadata": {},
   "source": [
    "Aby ułatwić zadanie algorytmowi klasyfikacji, zostawimy tylko 19 najbardziej popularnych krajów, a reszte zaliczymy do grupy \"Other\""
   ]
  },
  {
   "cell_type": "code",
   "execution_count": null,
   "metadata": {},
   "outputs": [],
   "source": [
    "freq = X_data['Country'].value_counts()\n",
    "with ChainedAssignent():\n",
    "    X_data['Country'][~X_data['Country'].isin(freq.index[:19])] = 'Other'\n",
    "    X_data['Country'] = X_data['Country'].astype('category')\n",
    "X_data['Country'].unique()"
   ]
  },
  {
   "cell_type": "code",
   "execution_count": null,
   "metadata": {},
   "outputs": [],
   "source": [
    "top_countries = X_data['Country'].value_counts().head(20)\n",
    "top_countries\n",
    "plt.figure(figsize=(12,6))\n",
    "plt.xticks(rotation=75)\n",
    "plt.title(schema.Country)\n",
    "\n",
    "sns.barplot(x=top_countries.index, y=top_countries);"
   ]
  },
  {
   "cell_type": "markdown",
   "metadata": {},
   "source": [
    "Jak widać na wykresie, najbardziej popularne grupy to Stany zjednoczone, Indie, i inne"
   ]
  },
  {
   "cell_type": "markdown",
   "metadata": {},
   "source": [
    "Następnie przygotujemy dane dla algorytmu klasyfikacji"
   ]
  },
  {
   "cell_type": "code",
   "execution_count": null,
   "metadata": {},
   "outputs": [],
   "source": [
    "Y_data = X_data['Country'].copy();\n",
    "X_data = X_data.drop('Country', axis=1)"
   ]
  },
  {
   "cell_type": "markdown",
   "metadata": {},
   "source": [
    "Kodujemy wartośći atrybutu Country"
   ]
  },
  {
   "cell_type": "code",
   "execution_count": null,
   "metadata": {},
   "outputs": [],
   "source": [
    "le.fit(Y_data)\n",
    "Y_data = le.transform(Y_data)"
   ]
  },
  {
   "cell_type": "markdown",
   "metadata": {},
   "source": [
    "I wywołamy algorytm klasyfikacji"
   ]
  },
  {
   "cell_type": "code",
   "execution_count": null,
   "metadata": {},
   "outputs": [],
   "source": [
    "decision_tree = DecisionTreeClassifier()\n",
    "scores = cross_val_score(decision_tree, X_data, Y_data, cv=10)\n",
    "scores\n",
    "print(\"%0.2f accuracy with a standard deviation of %0.2f\" % (scores.mean(), scores.std()))"
   ]
  },
  {
   "cell_type": "markdown",
   "metadata": {},
   "source": [
    "Udało się uzyskać dokładność na poziomie około 29%."
   ]
  },
  {
   "cell_type": "markdown",
   "metadata": {},
   "source": [
    "## Krok 5: Podsumowanie"
   ]
  },
  {
   "cell_type": "markdown",
   "metadata": {},
   "source": [
    "Z ankiety pożna wyciągnąć wiele wniosków. Wykonana tutaj analiza stanowi tylko małą część tego, czego można się dowiedzieć z analizowanej ankiety. Oto podsumowanie kilku z znalezionych inforamcji:\n",
    "\n",
    "Na podstawie danych demograficznych respondentów badania możemy wywnioskować, że badanie jest w pewnym stopniu reprezentatywne dla całej społeczności programistów. Jednak ma mniej odpowiedzi od programistów z krajów nieanglojęzycznych oraz kobiet i niebinarnych płci.\n",
    "\n",
    "Społeczność programistów nie jest tak różnorodna, jak mogłoby się wydawać. Chociaż sytuacja się poprawia, powinniśmy dołożyć większych starań, aby wspierać i zachęcać niedostatecznie reprezentowane społeczności, czy to pod względem wieku, kraju, rasy, płci, czy w inny sposób.\n",
    "\n",
    "Chociaż większość programistów ma wyższe wykształcenie, dość duży odsetek nie skończyła informatyki jako głównego kierunku studiów. Dlatego dyplom z informatyki nie jest obowiązkowy do nauki kodowania lub budowania kariery programistycznej.\n",
    "\n",
    "Znaczny odsetek programistów pracuje w niepełnym wymiarze godzin lub jako freelancerzy, co może być świetnym sposobem na wejście w tę dziedzinę, zwłaszcza gdy dopiero zaczynasz.\n",
    "\n",
    "Javascript i HTML / CSS to najczęściej używane języki programowania w 2020 roku, tuż za nimi plasują się SQL i Python.\n",
    "\n",
    "Wydaje się, że programiści na całym świecie pracują średnio około 40 godzin tygodniowo, z niewielkimi różnicami w zależności od kraju.\n",
    "\n",
    "Można się uczyć i zacząć programować zawodowo w każdym wieku."
   ]
  }
 ],
 "metadata": {
  "kernelspec": {
   "display_name": "Python 3",
   "language": "python",
   "name": "python3"
  },
  "language_info": {
   "codemirror_mode": {
    "name": "ipython",
    "version": 3
   },
   "file_extension": ".py",
   "mimetype": "text/x-python",
   "name": "python",
   "nbconvert_exporter": "python",
   "pygments_lexer": "ipython3",
   "version": "3.8.5"
  }
 },
 "nbformat": 4,
 "nbformat_minor": 4
}
